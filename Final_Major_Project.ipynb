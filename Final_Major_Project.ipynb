{
  "nbformat": 4,
  "nbformat_minor": 0,
  "metadata": {
    "colab": {
      "provenance": [],
      "gpuType": "T4",
      "include_colab_link": true
    },
    "kernelspec": {
      "name": "python3",
      "display_name": "Python 3"
    },
    "language_info": {
      "name": "python"
    }
  },
  "cells": [
    {
      "cell_type": "markdown",
      "metadata": {
        "id": "view-in-github",
        "colab_type": "text"
      },
      "source": [
        "<a href=\"https://colab.research.google.com/github/Kalyan9150/Diabetes-Prediction-System/blob/main/Final_Major_Project.ipynb\" target=\"_parent\"><img src=\"https://colab.research.google.com/assets/colab-badge.svg\" alt=\"Open In Colab\"/></a>"
      ]
    },
    {
      "cell_type": "code",
      "source": [
        "!pip install regressormetricgraphplot\n",
        "!pip install scipy\n",
        "!pip install catboost\n",
        "!pip install --upgrade --no-cache-dir patsy\n",
        "!pip install --upgrade --no-cache-dir statsmodels\n"
      ],
      "metadata": {
        "id": "XV8-Enc5eKgJ",
        "colab": {
          "base_uri": "https://localhost:8080/"
        },
        "outputId": "9e4c170f-5019-47c9-fb66-0e990bcda2c5"
      },
      "execution_count": null,
      "outputs": [
        {
          "output_type": "stream",
          "name": "stdout",
          "text": [
            "Collecting regressormetricgraphplot\n",
            "  Downloading regressormetricgraphplot-0.0.3-py3-none-any.whl.metadata (2.8 kB)\n",
            "Downloading regressormetricgraphplot-0.0.3-py3-none-any.whl (4.0 kB)\n",
            "Installing collected packages: regressormetricgraphplot\n",
            "Successfully installed regressormetricgraphplot-0.0.3\n",
            "Requirement already satisfied: scipy in /usr/local/lib/python3.10/dist-packages (1.13.1)\n",
            "Requirement already satisfied: numpy<2.3,>=1.22.4 in /usr/local/lib/python3.10/dist-packages (from scipy) (1.26.4)\n",
            "Collecting catboost\n",
            "  Downloading catboost-1.2.7-cp310-cp310-manylinux2014_x86_64.whl.metadata (1.2 kB)\n",
            "Requirement already satisfied: graphviz in /usr/local/lib/python3.10/dist-packages (from catboost) (0.20.3)\n",
            "Requirement already satisfied: matplotlib in /usr/local/lib/python3.10/dist-packages (from catboost) (3.8.0)\n",
            "Requirement already satisfied: numpy<2.0,>=1.16.0 in /usr/local/lib/python3.10/dist-packages (from catboost) (1.26.4)\n",
            "Requirement already satisfied: pandas>=0.24 in /usr/local/lib/python3.10/dist-packages (from catboost) (2.2.2)\n",
            "Requirement already satisfied: scipy in /usr/local/lib/python3.10/dist-packages (from catboost) (1.13.1)\n",
            "Requirement already satisfied: plotly in /usr/local/lib/python3.10/dist-packages (from catboost) (5.24.1)\n",
            "Requirement already satisfied: six in /usr/local/lib/python3.10/dist-packages (from catboost) (1.16.0)\n",
            "Requirement already satisfied: python-dateutil>=2.8.2 in /usr/local/lib/python3.10/dist-packages (from pandas>=0.24->catboost) (2.8.2)\n",
            "Requirement already satisfied: pytz>=2020.1 in /usr/local/lib/python3.10/dist-packages (from pandas>=0.24->catboost) (2024.2)\n",
            "Requirement already satisfied: tzdata>=2022.7 in /usr/local/lib/python3.10/dist-packages (from pandas>=0.24->catboost) (2024.2)\n",
            "Requirement already satisfied: contourpy>=1.0.1 in /usr/local/lib/python3.10/dist-packages (from matplotlib->catboost) (1.3.1)\n",
            "Requirement already satisfied: cycler>=0.10 in /usr/local/lib/python3.10/dist-packages (from matplotlib->catboost) (0.12.1)\n",
            "Requirement already satisfied: fonttools>=4.22.0 in /usr/local/lib/python3.10/dist-packages (from matplotlib->catboost) (4.55.0)\n",
            "Requirement already satisfied: kiwisolver>=1.0.1 in /usr/local/lib/python3.10/dist-packages (from matplotlib->catboost) (1.4.7)\n",
            "Requirement already satisfied: packaging>=20.0 in /usr/local/lib/python3.10/dist-packages (from matplotlib->catboost) (24.2)\n",
            "Requirement already satisfied: pillow>=6.2.0 in /usr/local/lib/python3.10/dist-packages (from matplotlib->catboost) (11.0.0)\n",
            "Requirement already satisfied: pyparsing>=2.3.1 in /usr/local/lib/python3.10/dist-packages (from matplotlib->catboost) (3.2.0)\n",
            "Requirement already satisfied: tenacity>=6.2.0 in /usr/local/lib/python3.10/dist-packages (from plotly->catboost) (9.0.0)\n",
            "Downloading catboost-1.2.7-cp310-cp310-manylinux2014_x86_64.whl (98.7 MB)\n",
            "\u001b[2K   \u001b[90m━━━━━━━━━━━━━━━━━━━━━━━━━━━━━━━━━━━━━━━━\u001b[0m \u001b[32m98.7/98.7 MB\u001b[0m \u001b[31m6.8 MB/s\u001b[0m eta \u001b[36m0:00:00\u001b[0m\n",
            "\u001b[?25hInstalling collected packages: catboost\n",
            "Successfully installed catboost-1.2.7\n",
            "Requirement already satisfied: patsy in /usr/local/lib/python3.10/dist-packages (1.0.1)\n",
            "Requirement already satisfied: numpy>=1.4 in /usr/local/lib/python3.10/dist-packages (from patsy) (1.26.4)\n",
            "Requirement already satisfied: statsmodels in /usr/local/lib/python3.10/dist-packages (0.14.4)\n",
            "Requirement already satisfied: numpy<3,>=1.22.3 in /usr/local/lib/python3.10/dist-packages (from statsmodels) (1.26.4)\n",
            "Requirement already satisfied: scipy!=1.9.2,>=1.8 in /usr/local/lib/python3.10/dist-packages (from statsmodels) (1.13.1)\n",
            "Requirement already satisfied: pandas!=2.1.0,>=1.4 in /usr/local/lib/python3.10/dist-packages (from statsmodels) (2.2.2)\n",
            "Requirement already satisfied: patsy>=0.5.6 in /usr/local/lib/python3.10/dist-packages (from statsmodels) (1.0.1)\n",
            "Requirement already satisfied: packaging>=21.3 in /usr/local/lib/python3.10/dist-packages (from statsmodels) (24.2)\n",
            "Requirement already satisfied: python-dateutil>=2.8.2 in /usr/local/lib/python3.10/dist-packages (from pandas!=2.1.0,>=1.4->statsmodels) (2.8.2)\n",
            "Requirement already satisfied: pytz>=2020.1 in /usr/local/lib/python3.10/dist-packages (from pandas!=2.1.0,>=1.4->statsmodels) (2024.2)\n",
            "Requirement already satisfied: tzdata>=2022.7 in /usr/local/lib/python3.10/dist-packages (from pandas!=2.1.0,>=1.4->statsmodels) (2024.2)\n",
            "Requirement already satisfied: six>=1.5 in /usr/local/lib/python3.10/dist-packages (from python-dateutil>=2.8.2->pandas!=2.1.0,>=1.4->statsmodels) (1.16.0)\n"
          ]
        }
      ]
    },
    {
      "cell_type": "code",
      "source": [
        "!pip install seaborn"
      ],
      "metadata": {
        "id": "tAsIavLFnraZ",
        "outputId": "03df1c27-14af-46f3-f519-a7f743ee0fa2",
        "colab": {
          "base_uri": "https://localhost:8080/"
        }
      },
      "execution_count": null,
      "outputs": [
        {
          "output_type": "stream",
          "name": "stdout",
          "text": [
            "Requirement already satisfied: seaborn in /usr/local/lib/python3.10/dist-packages (0.13.2)\n",
            "Requirement already satisfied: numpy!=1.24.0,>=1.20 in /usr/local/lib/python3.10/dist-packages (from seaborn) (1.26.4)\n",
            "Requirement already satisfied: pandas>=1.2 in /usr/local/lib/python3.10/dist-packages (from seaborn) (2.2.2)\n",
            "Requirement already satisfied: matplotlib!=3.6.1,>=3.4 in /usr/local/lib/python3.10/dist-packages (from seaborn) (3.8.0)\n",
            "Requirement already satisfied: contourpy>=1.0.1 in /usr/local/lib/python3.10/dist-packages (from matplotlib!=3.6.1,>=3.4->seaborn) (1.3.1)\n",
            "Requirement already satisfied: cycler>=0.10 in /usr/local/lib/python3.10/dist-packages (from matplotlib!=3.6.1,>=3.4->seaborn) (0.12.1)\n",
            "Requirement already satisfied: fonttools>=4.22.0 in /usr/local/lib/python3.10/dist-packages (from matplotlib!=3.6.1,>=3.4->seaborn) (4.55.0)\n",
            "Requirement already satisfied: kiwisolver>=1.0.1 in /usr/local/lib/python3.10/dist-packages (from matplotlib!=3.6.1,>=3.4->seaborn) (1.4.7)\n",
            "Requirement already satisfied: packaging>=20.0 in /usr/local/lib/python3.10/dist-packages (from matplotlib!=3.6.1,>=3.4->seaborn) (24.2)\n",
            "Requirement already satisfied: pillow>=6.2.0 in /usr/local/lib/python3.10/dist-packages (from matplotlib!=3.6.1,>=3.4->seaborn) (11.0.0)\n",
            "Requirement already satisfied: pyparsing>=2.3.1 in /usr/local/lib/python3.10/dist-packages (from matplotlib!=3.6.1,>=3.4->seaborn) (3.2.0)\n",
            "Requirement already satisfied: python-dateutil>=2.7 in /usr/local/lib/python3.10/dist-packages (from matplotlib!=3.6.1,>=3.4->seaborn) (2.8.2)\n",
            "Requirement already satisfied: pytz>=2020.1 in /usr/local/lib/python3.10/dist-packages (from pandas>=1.2->seaborn) (2024.2)\n",
            "Requirement already satisfied: tzdata>=2022.7 in /usr/local/lib/python3.10/dist-packages (from pandas>=1.2->seaborn) (2024.2)\n",
            "Requirement already satisfied: six>=1.5 in /usr/local/lib/python3.10/dist-packages (from python-dateutil>=2.7->matplotlib!=3.6.1,>=3.4->seaborn) (1.16.0)\n"
          ]
        }
      ]
    },
    {
      "cell_type": "code",
      "execution_count": null,
      "metadata": {
        "id": "ml8fiMi-DmAl"
      },
      "outputs": [],
      "source": [
        "import numpy as np\n",
        "import pandas as pd\n",
        "from sklearn.model_selection import train_test_split\n",
        "from sklearn import svm\n",
        "from sklearn.metrics import accuracy_score\n",
        "\n",
        "import matplotlib.pyplot as plt"
      ]
    },
    {
      "cell_type": "code",
      "source": [
        "#data set link\n",
        "# https://www.kaggle.com/datasets/iammustafatz/diabetes-prediction-dataset"
      ],
      "metadata": {
        "id": "IlUCRw9znEnU"
      },
      "execution_count": null,
      "outputs": []
    },
    {
      "cell_type": "code",
      "source": [
        "#  loading the diabetes dataset to a pandas DataFrame\n",
        "diabetes_dataset = pd.read_csv('/content/sample_data/california_housing_train.csv')"
      ],
      "metadata": {
        "id": "EMvSthE1Dpt4"
      },
      "execution_count": null,
      "outputs": []
    },
    {
      "cell_type": "code",
      "source": [
        "# number of rows and Columns in this dataset\n",
        "diabetes_dataset.shape"
      ],
      "metadata": {
        "id": "r2ElKGUoDvT2",
        "colab": {
          "base_uri": "https://localhost:8080/"
        },
        "outputId": "f44cd6dc-8509-4a13-b7d4-4dc9b36f1e7f"
      },
      "execution_count": null,
      "outputs": [
        {
          "output_type": "execute_result",
          "data": {
            "text/plain": [
              "(17000, 9)"
            ]
          },
          "metadata": {},
          "execution_count": 17
        }
      ]
    },
    {
      "cell_type": "code",
      "source": [
        "# getting the statistical measures of the data\n",
        "diabetes_dataset.describe()"
      ],
      "metadata": {
        "id": "oew5sD5YDxCa",
        "colab": {
          "base_uri": "https://localhost:8080/",
          "height": 320
        },
        "outputId": "1c0e5391-dbfa-4fce-8d36-3bb213686d82"
      },
      "execution_count": null,
      "outputs": [
        {
          "output_type": "execute_result",
          "data": {
            "text/plain": [
              "          longitude      latitude  housing_median_age   total_rooms  \\\n",
              "count  17000.000000  17000.000000        17000.000000  17000.000000   \n",
              "mean    -119.562108     35.625225           28.589353   2643.664412   \n",
              "std        2.005166      2.137340           12.586937   2179.947071   \n",
              "min     -124.350000     32.540000            1.000000      2.000000   \n",
              "25%     -121.790000     33.930000           18.000000   1462.000000   \n",
              "50%     -118.490000     34.250000           29.000000   2127.000000   \n",
              "75%     -118.000000     37.720000           37.000000   3151.250000   \n",
              "max     -114.310000     41.950000           52.000000  37937.000000   \n",
              "\n",
              "       total_bedrooms    population    households  median_income  \\\n",
              "count    17000.000000  17000.000000  17000.000000   17000.000000   \n",
              "mean       539.410824   1429.573941    501.221941       3.883578   \n",
              "std        421.499452   1147.852959    384.520841       1.908157   \n",
              "min          1.000000      3.000000      1.000000       0.499900   \n",
              "25%        297.000000    790.000000    282.000000       2.566375   \n",
              "50%        434.000000   1167.000000    409.000000       3.544600   \n",
              "75%        648.250000   1721.000000    605.250000       4.767000   \n",
              "max       6445.000000  35682.000000   6082.000000      15.000100   \n",
              "\n",
              "       median_house_value  \n",
              "count        17000.000000  \n",
              "mean        207300.912353  \n",
              "std         115983.764387  \n",
              "min          14999.000000  \n",
              "25%         119400.000000  \n",
              "50%         180400.000000  \n",
              "75%         265000.000000  \n",
              "max         500001.000000  "
            ],
            "text/html": [
              "\n",
              "  <div id=\"df-50f5d33f-f6d6-43ff-a8e8-1cf875c92d5b\" class=\"colab-df-container\">\n",
              "    <div>\n",
              "<style scoped>\n",
              "    .dataframe tbody tr th:only-of-type {\n",
              "        vertical-align: middle;\n",
              "    }\n",
              "\n",
              "    .dataframe tbody tr th {\n",
              "        vertical-align: top;\n",
              "    }\n",
              "\n",
              "    .dataframe thead th {\n",
              "        text-align: right;\n",
              "    }\n",
              "</style>\n",
              "<table border=\"1\" class=\"dataframe\">\n",
              "  <thead>\n",
              "    <tr style=\"text-align: right;\">\n",
              "      <th></th>\n",
              "      <th>longitude</th>\n",
              "      <th>latitude</th>\n",
              "      <th>housing_median_age</th>\n",
              "      <th>total_rooms</th>\n",
              "      <th>total_bedrooms</th>\n",
              "      <th>population</th>\n",
              "      <th>households</th>\n",
              "      <th>median_income</th>\n",
              "      <th>median_house_value</th>\n",
              "    </tr>\n",
              "  </thead>\n",
              "  <tbody>\n",
              "    <tr>\n",
              "      <th>count</th>\n",
              "      <td>17000.000000</td>\n",
              "      <td>17000.000000</td>\n",
              "      <td>17000.000000</td>\n",
              "      <td>17000.000000</td>\n",
              "      <td>17000.000000</td>\n",
              "      <td>17000.000000</td>\n",
              "      <td>17000.000000</td>\n",
              "      <td>17000.000000</td>\n",
              "      <td>17000.000000</td>\n",
              "    </tr>\n",
              "    <tr>\n",
              "      <th>mean</th>\n",
              "      <td>-119.562108</td>\n",
              "      <td>35.625225</td>\n",
              "      <td>28.589353</td>\n",
              "      <td>2643.664412</td>\n",
              "      <td>539.410824</td>\n",
              "      <td>1429.573941</td>\n",
              "      <td>501.221941</td>\n",
              "      <td>3.883578</td>\n",
              "      <td>207300.912353</td>\n",
              "    </tr>\n",
              "    <tr>\n",
              "      <th>std</th>\n",
              "      <td>2.005166</td>\n",
              "      <td>2.137340</td>\n",
              "      <td>12.586937</td>\n",
              "      <td>2179.947071</td>\n",
              "      <td>421.499452</td>\n",
              "      <td>1147.852959</td>\n",
              "      <td>384.520841</td>\n",
              "      <td>1.908157</td>\n",
              "      <td>115983.764387</td>\n",
              "    </tr>\n",
              "    <tr>\n",
              "      <th>min</th>\n",
              "      <td>-124.350000</td>\n",
              "      <td>32.540000</td>\n",
              "      <td>1.000000</td>\n",
              "      <td>2.000000</td>\n",
              "      <td>1.000000</td>\n",
              "      <td>3.000000</td>\n",
              "      <td>1.000000</td>\n",
              "      <td>0.499900</td>\n",
              "      <td>14999.000000</td>\n",
              "    </tr>\n",
              "    <tr>\n",
              "      <th>25%</th>\n",
              "      <td>-121.790000</td>\n",
              "      <td>33.930000</td>\n",
              "      <td>18.000000</td>\n",
              "      <td>1462.000000</td>\n",
              "      <td>297.000000</td>\n",
              "      <td>790.000000</td>\n",
              "      <td>282.000000</td>\n",
              "      <td>2.566375</td>\n",
              "      <td>119400.000000</td>\n",
              "    </tr>\n",
              "    <tr>\n",
              "      <th>50%</th>\n",
              "      <td>-118.490000</td>\n",
              "      <td>34.250000</td>\n",
              "      <td>29.000000</td>\n",
              "      <td>2127.000000</td>\n",
              "      <td>434.000000</td>\n",
              "      <td>1167.000000</td>\n",
              "      <td>409.000000</td>\n",
              "      <td>3.544600</td>\n",
              "      <td>180400.000000</td>\n",
              "    </tr>\n",
              "    <tr>\n",
              "      <th>75%</th>\n",
              "      <td>-118.000000</td>\n",
              "      <td>37.720000</td>\n",
              "      <td>37.000000</td>\n",
              "      <td>3151.250000</td>\n",
              "      <td>648.250000</td>\n",
              "      <td>1721.000000</td>\n",
              "      <td>605.250000</td>\n",
              "      <td>4.767000</td>\n",
              "      <td>265000.000000</td>\n",
              "    </tr>\n",
              "    <tr>\n",
              "      <th>max</th>\n",
              "      <td>-114.310000</td>\n",
              "      <td>41.950000</td>\n",
              "      <td>52.000000</td>\n",
              "      <td>37937.000000</td>\n",
              "      <td>6445.000000</td>\n",
              "      <td>35682.000000</td>\n",
              "      <td>6082.000000</td>\n",
              "      <td>15.000100</td>\n",
              "      <td>500001.000000</td>\n",
              "    </tr>\n",
              "  </tbody>\n",
              "</table>\n",
              "</div>\n",
              "    <div class=\"colab-df-buttons\">\n",
              "\n",
              "  <div class=\"colab-df-container\">\n",
              "    <button class=\"colab-df-convert\" onclick=\"convertToInteractive('df-50f5d33f-f6d6-43ff-a8e8-1cf875c92d5b')\"\n",
              "            title=\"Convert this dataframe to an interactive table.\"\n",
              "            style=\"display:none;\">\n",
              "\n",
              "  <svg xmlns=\"http://www.w3.org/2000/svg\" height=\"24px\" viewBox=\"0 -960 960 960\">\n",
              "    <path d=\"M120-120v-720h720v720H120Zm60-500h600v-160H180v160Zm220 220h160v-160H400v160Zm0 220h160v-160H400v160ZM180-400h160v-160H180v160Zm440 0h160v-160H620v160ZM180-180h160v-160H180v160Zm440 0h160v-160H620v160Z\"/>\n",
              "  </svg>\n",
              "    </button>\n",
              "\n",
              "  <style>\n",
              "    .colab-df-container {\n",
              "      display:flex;\n",
              "      gap: 12px;\n",
              "    }\n",
              "\n",
              "    .colab-df-convert {\n",
              "      background-color: #E8F0FE;\n",
              "      border: none;\n",
              "      border-radius: 50%;\n",
              "      cursor: pointer;\n",
              "      display: none;\n",
              "      fill: #1967D2;\n",
              "      height: 32px;\n",
              "      padding: 0 0 0 0;\n",
              "      width: 32px;\n",
              "    }\n",
              "\n",
              "    .colab-df-convert:hover {\n",
              "      background-color: #E2EBFA;\n",
              "      box-shadow: 0px 1px 2px rgba(60, 64, 67, 0.3), 0px 1px 3px 1px rgba(60, 64, 67, 0.15);\n",
              "      fill: #174EA6;\n",
              "    }\n",
              "\n",
              "    .colab-df-buttons div {\n",
              "      margin-bottom: 4px;\n",
              "    }\n",
              "\n",
              "    [theme=dark] .colab-df-convert {\n",
              "      background-color: #3B4455;\n",
              "      fill: #D2E3FC;\n",
              "    }\n",
              "\n",
              "    [theme=dark] .colab-df-convert:hover {\n",
              "      background-color: #434B5C;\n",
              "      box-shadow: 0px 1px 3px 1px rgba(0, 0, 0, 0.15);\n",
              "      filter: drop-shadow(0px 1px 2px rgba(0, 0, 0, 0.3));\n",
              "      fill: #FFFFFF;\n",
              "    }\n",
              "  </style>\n",
              "\n",
              "    <script>\n",
              "      const buttonEl =\n",
              "        document.querySelector('#df-50f5d33f-f6d6-43ff-a8e8-1cf875c92d5b button.colab-df-convert');\n",
              "      buttonEl.style.display =\n",
              "        google.colab.kernel.accessAllowed ? 'block' : 'none';\n",
              "\n",
              "      async function convertToInteractive(key) {\n",
              "        const element = document.querySelector('#df-50f5d33f-f6d6-43ff-a8e8-1cf875c92d5b');\n",
              "        const dataTable =\n",
              "          await google.colab.kernel.invokeFunction('convertToInteractive',\n",
              "                                                    [key], {});\n",
              "        if (!dataTable) return;\n",
              "\n",
              "        const docLinkHtml = 'Like what you see? Visit the ' +\n",
              "          '<a target=\"_blank\" href=https://colab.research.google.com/notebooks/data_table.ipynb>data table notebook</a>'\n",
              "          + ' to learn more about interactive tables.';\n",
              "        element.innerHTML = '';\n",
              "        dataTable['output_type'] = 'display_data';\n",
              "        await google.colab.output.renderOutput(dataTable, element);\n",
              "        const docLink = document.createElement('div');\n",
              "        docLink.innerHTML = docLinkHtml;\n",
              "        element.appendChild(docLink);\n",
              "      }\n",
              "    </script>\n",
              "  </div>\n",
              "\n",
              "\n",
              "<div id=\"df-a58e1fad-9f37-4080-bb2e-e50f215fe276\">\n",
              "  <button class=\"colab-df-quickchart\" onclick=\"quickchart('df-a58e1fad-9f37-4080-bb2e-e50f215fe276')\"\n",
              "            title=\"Suggest charts\"\n",
              "            style=\"display:none;\">\n",
              "\n",
              "<svg xmlns=\"http://www.w3.org/2000/svg\" height=\"24px\"viewBox=\"0 0 24 24\"\n",
              "     width=\"24px\">\n",
              "    <g>\n",
              "        <path d=\"M19 3H5c-1.1 0-2 .9-2 2v14c0 1.1.9 2 2 2h14c1.1 0 2-.9 2-2V5c0-1.1-.9-2-2-2zM9 17H7v-7h2v7zm4 0h-2V7h2v10zm4 0h-2v-4h2v4z\"/>\n",
              "    </g>\n",
              "</svg>\n",
              "  </button>\n",
              "\n",
              "<style>\n",
              "  .colab-df-quickchart {\n",
              "      --bg-color: #E8F0FE;\n",
              "      --fill-color: #1967D2;\n",
              "      --hover-bg-color: #E2EBFA;\n",
              "      --hover-fill-color: #174EA6;\n",
              "      --disabled-fill-color: #AAA;\n",
              "      --disabled-bg-color: #DDD;\n",
              "  }\n",
              "\n",
              "  [theme=dark] .colab-df-quickchart {\n",
              "      --bg-color: #3B4455;\n",
              "      --fill-color: #D2E3FC;\n",
              "      --hover-bg-color: #434B5C;\n",
              "      --hover-fill-color: #FFFFFF;\n",
              "      --disabled-bg-color: #3B4455;\n",
              "      --disabled-fill-color: #666;\n",
              "  }\n",
              "\n",
              "  .colab-df-quickchart {\n",
              "    background-color: var(--bg-color);\n",
              "    border: none;\n",
              "    border-radius: 50%;\n",
              "    cursor: pointer;\n",
              "    display: none;\n",
              "    fill: var(--fill-color);\n",
              "    height: 32px;\n",
              "    padding: 0;\n",
              "    width: 32px;\n",
              "  }\n",
              "\n",
              "  .colab-df-quickchart:hover {\n",
              "    background-color: var(--hover-bg-color);\n",
              "    box-shadow: 0 1px 2px rgba(60, 64, 67, 0.3), 0 1px 3px 1px rgba(60, 64, 67, 0.15);\n",
              "    fill: var(--button-hover-fill-color);\n",
              "  }\n",
              "\n",
              "  .colab-df-quickchart-complete:disabled,\n",
              "  .colab-df-quickchart-complete:disabled:hover {\n",
              "    background-color: var(--disabled-bg-color);\n",
              "    fill: var(--disabled-fill-color);\n",
              "    box-shadow: none;\n",
              "  }\n",
              "\n",
              "  .colab-df-spinner {\n",
              "    border: 2px solid var(--fill-color);\n",
              "    border-color: transparent;\n",
              "    border-bottom-color: var(--fill-color);\n",
              "    animation:\n",
              "      spin 1s steps(1) infinite;\n",
              "  }\n",
              "\n",
              "  @keyframes spin {\n",
              "    0% {\n",
              "      border-color: transparent;\n",
              "      border-bottom-color: var(--fill-color);\n",
              "      border-left-color: var(--fill-color);\n",
              "    }\n",
              "    20% {\n",
              "      border-color: transparent;\n",
              "      border-left-color: var(--fill-color);\n",
              "      border-top-color: var(--fill-color);\n",
              "    }\n",
              "    30% {\n",
              "      border-color: transparent;\n",
              "      border-left-color: var(--fill-color);\n",
              "      border-top-color: var(--fill-color);\n",
              "      border-right-color: var(--fill-color);\n",
              "    }\n",
              "    40% {\n",
              "      border-color: transparent;\n",
              "      border-right-color: var(--fill-color);\n",
              "      border-top-color: var(--fill-color);\n",
              "    }\n",
              "    60% {\n",
              "      border-color: transparent;\n",
              "      border-right-color: var(--fill-color);\n",
              "    }\n",
              "    80% {\n",
              "      border-color: transparent;\n",
              "      border-right-color: var(--fill-color);\n",
              "      border-bottom-color: var(--fill-color);\n",
              "    }\n",
              "    90% {\n",
              "      border-color: transparent;\n",
              "      border-bottom-color: var(--fill-color);\n",
              "    }\n",
              "  }\n",
              "</style>\n",
              "\n",
              "  <script>\n",
              "    async function quickchart(key) {\n",
              "      const quickchartButtonEl =\n",
              "        document.querySelector('#' + key + ' button');\n",
              "      quickchartButtonEl.disabled = true;  // To prevent multiple clicks.\n",
              "      quickchartButtonEl.classList.add('colab-df-spinner');\n",
              "      try {\n",
              "        const charts = await google.colab.kernel.invokeFunction(\n",
              "            'suggestCharts', [key], {});\n",
              "      } catch (error) {\n",
              "        console.error('Error during call to suggestCharts:', error);\n",
              "      }\n",
              "      quickchartButtonEl.classList.remove('colab-df-spinner');\n",
              "      quickchartButtonEl.classList.add('colab-df-quickchart-complete');\n",
              "    }\n",
              "    (() => {\n",
              "      let quickchartButtonEl =\n",
              "        document.querySelector('#df-a58e1fad-9f37-4080-bb2e-e50f215fe276 button');\n",
              "      quickchartButtonEl.style.display =\n",
              "        google.colab.kernel.accessAllowed ? 'block' : 'none';\n",
              "    })();\n",
              "  </script>\n",
              "</div>\n",
              "\n",
              "    </div>\n",
              "  </div>\n"
            ],
            "application/vnd.google.colaboratory.intrinsic+json": {
              "type": "dataframe",
              "summary": "{\n  \"name\": \"diabetes_dataset\",\n  \"rows\": 8,\n  \"fields\": [\n    {\n      \"column\": \"longitude\",\n      \"properties\": {\n        \"dtype\": \"number\",\n        \"std\": 6046.6451651071675,\n        \"min\": -124.35,\n        \"max\": 17000.0,\n        \"num_unique_values\": 8,\n        \"samples\": [\n          -119.5621082352941,\n          -118.49,\n          17000.0\n        ],\n        \"semantic_type\": \"\",\n        \"description\": \"\"\n      }\n    },\n    {\n      \"column\": \"latitude\",\n      \"properties\": {\n        \"dtype\": \"number\",\n        \"std\": 5999.40166383228,\n        \"min\": 2.1373397946570734,\n        \"max\": 17000.0,\n        \"num_unique_values\": 8,\n        \"samples\": [\n          35.62522470588235,\n          34.25,\n          17000.0\n        ],\n        \"semantic_type\": \"\",\n        \"description\": \"\"\n      }\n    },\n    {\n      \"column\": \"housing_median_age\",\n      \"properties\": {\n        \"dtype\": \"number\",\n        \"std\": 6001.428368089024,\n        \"min\": 1.0,\n        \"max\": 17000.0,\n        \"num_unique_values\": 8,\n        \"samples\": [\n          28.58935294117647,\n          29.0,\n          17000.0\n        ],\n        \"semantic_type\": \"\",\n        \"description\": \"\"\n      }\n    },\n    {\n      \"column\": \"total_rooms\",\n      \"properties\": {\n        \"dtype\": \"number\",\n        \"std\": 13113.353227786365,\n        \"min\": 2.0,\n        \"max\": 37937.0,\n        \"num_unique_values\": 8,\n        \"samples\": [\n          2643.664411764706,\n          2127.0,\n          17000.0\n        ],\n        \"semantic_type\": \"\",\n        \"description\": \"\"\n      }\n    },\n    {\n      \"column\": \"total_bedrooms\",\n      \"properties\": {\n        \"dtype\": \"number\",\n        \"std\": 5959.238771737063,\n        \"min\": 1.0,\n        \"max\": 17000.0,\n        \"num_unique_values\": 8,\n        \"samples\": [\n          539.4108235294118,\n          434.0,\n          17000.0\n        ],\n        \"semantic_type\": \"\",\n        \"description\": \"\"\n      }\n    },\n    {\n      \"column\": \"population\",\n      \"properties\": {\n        \"dtype\": \"number\",\n        \"std\": 12740.640658201448,\n        \"min\": 3.0,\n        \"max\": 35682.0,\n        \"num_unique_values\": 8,\n        \"samples\": [\n          1429.5739411764705,\n          1167.0,\n          17000.0\n        ],\n        \"semantic_type\": \"\",\n        \"description\": \"\"\n      }\n    },\n    {\n      \"column\": \"households\",\n      \"properties\": {\n        \"dtype\": \"number\",\n        \"std\": 5942.738122392389,\n        \"min\": 1.0,\n        \"max\": 17000.0,\n        \"num_unique_values\": 8,\n        \"samples\": [\n          501.2219411764706,\n          409.0,\n          17000.0\n        ],\n        \"semantic_type\": \"\",\n        \"description\": \"\"\n      }\n    },\n    {\n      \"column\": \"median_income\",\n      \"properties\": {\n        \"dtype\": \"number\",\n        \"std\": 6008.784464952051,\n        \"min\": 0.4999,\n        \"max\": 17000.0,\n        \"num_unique_values\": 8,\n        \"samples\": [\n          3.8835781000000007,\n          3.5446,\n          17000.0\n        ],\n        \"semantic_type\": \"\",\n        \"description\": \"\"\n      }\n    },\n    {\n      \"column\": \"median_house_value\",\n      \"properties\": {\n        \"dtype\": \"number\",\n        \"std\": 156700.95757149634,\n        \"min\": 14999.0,\n        \"max\": 500001.0,\n        \"num_unique_values\": 8,\n        \"samples\": [\n          207300.91235294117,\n          180400.0,\n          17000.0\n        ],\n        \"semantic_type\": \"\",\n        \"description\": \"\"\n      }\n    }\n  ]\n}"
            }
          },
          "metadata": {},
          "execution_count": 18
        }
      ]
    },
    {
      "cell_type": "code",
      "source": [
        "for col in diabetes_dataset.select_dtypes(include='object').columns:\n",
        "    print(f\"{col}: {diabetes_dataset[col].unique()}\")"
      ],
      "metadata": {
        "id": "vqnMrvLlDyqj"
      },
      "execution_count": null,
      "outputs": []
    },
    {
      "cell_type": "code",
      "source": [
        "#  loading the diabetes dataset to a pandas DataFrame\n",
        "import pandas as pd  # Import the pandas module\n",
        "\n",
        "diabetes_dataset = pd.read_csv('//content/sample_data/mnist_train_small.csv')\n",
        "\n",
        "# ... (other code) ...\n",
        "\n",
        "del diabetes_dataset['smoking_history']\n",
        "del diabetes_dataset['gender']\n",
        "\n",
        "# Save the DataFrame to a CSV file using to_csv\n",
        "diabetes_dataset.to_csv('diabetes_dataset_modified.csv', index=False) # call the to_csv method on the dataframe and save to file"
      ],
      "metadata": {
        "id": "w-3RjGc5D1Kz",
        "colab": {
          "base_uri": "https://localhost:8080/",
          "height": 547
        },
        "outputId": "a4d70703-18a3-4711-91cb-da09ba55bc72"
      },
      "execution_count": null,
      "outputs": [
        {
          "output_type": "error",
          "ename": "KeyError",
          "evalue": "'smoking_history'",
          "traceback": [
            "\u001b[0;31m---------------------------------------------------------------------------\u001b[0m",
            "\u001b[0;31mKeyError\u001b[0m                                  Traceback (most recent call last)",
            "\u001b[0;32m/usr/local/lib/python3.10/dist-packages/pandas/core/indexes/base.py\u001b[0m in \u001b[0;36mget_loc\u001b[0;34m(self, key)\u001b[0m\n\u001b[1;32m   3804\u001b[0m         \u001b[0;32mtry\u001b[0m\u001b[0;34m:\u001b[0m\u001b[0;34m\u001b[0m\u001b[0;34m\u001b[0m\u001b[0m\n\u001b[0;32m-> 3805\u001b[0;31m             \u001b[0;32mreturn\u001b[0m \u001b[0mself\u001b[0m\u001b[0;34m.\u001b[0m\u001b[0m_engine\u001b[0m\u001b[0;34m.\u001b[0m\u001b[0mget_loc\u001b[0m\u001b[0;34m(\u001b[0m\u001b[0mcasted_key\u001b[0m\u001b[0;34m)\u001b[0m\u001b[0;34m\u001b[0m\u001b[0;34m\u001b[0m\u001b[0m\n\u001b[0m\u001b[1;32m   3806\u001b[0m         \u001b[0;32mexcept\u001b[0m \u001b[0mKeyError\u001b[0m \u001b[0;32mas\u001b[0m \u001b[0merr\u001b[0m\u001b[0;34m:\u001b[0m\u001b[0;34m\u001b[0m\u001b[0;34m\u001b[0m\u001b[0m\n",
            "\u001b[0;32mindex.pyx\u001b[0m in \u001b[0;36mpandas._libs.index.IndexEngine.get_loc\u001b[0;34m()\u001b[0m\n",
            "\u001b[0;32mindex.pyx\u001b[0m in \u001b[0;36mpandas._libs.index.IndexEngine.get_loc\u001b[0;34m()\u001b[0m\n",
            "\u001b[0;32mpandas/_libs/hashtable_class_helper.pxi\u001b[0m in \u001b[0;36mpandas._libs.hashtable.PyObjectHashTable.get_item\u001b[0;34m()\u001b[0m\n",
            "\u001b[0;32mpandas/_libs/hashtable_class_helper.pxi\u001b[0m in \u001b[0;36mpandas._libs.hashtable.PyObjectHashTable.get_item\u001b[0;34m()\u001b[0m\n",
            "\u001b[0;31mKeyError\u001b[0m: 'smoking_history'",
            "\nThe above exception was the direct cause of the following exception:\n",
            "\u001b[0;31mKeyError\u001b[0m                                  Traceback (most recent call last)",
            "\u001b[0;32m<ipython-input-22-7f112d4e9893>\u001b[0m in \u001b[0;36m<cell line: 8>\u001b[0;34m()\u001b[0m\n\u001b[1;32m      6\u001b[0m \u001b[0;31m# ... (other code) ...\u001b[0m\u001b[0;34m\u001b[0m\u001b[0;34m\u001b[0m\u001b[0m\n\u001b[1;32m      7\u001b[0m \u001b[0;34m\u001b[0m\u001b[0m\n\u001b[0;32m----> 8\u001b[0;31m \u001b[0;32mdel\u001b[0m \u001b[0mdiabetes_dataset\u001b[0m\u001b[0;34m[\u001b[0m\u001b[0;34m'smoking_history'\u001b[0m\u001b[0;34m]\u001b[0m\u001b[0;34m\u001b[0m\u001b[0;34m\u001b[0m\u001b[0m\n\u001b[0m\u001b[1;32m      9\u001b[0m \u001b[0;32mdel\u001b[0m \u001b[0mdiabetes_dataset\u001b[0m\u001b[0;34m[\u001b[0m\u001b[0;34m'gender'\u001b[0m\u001b[0;34m]\u001b[0m\u001b[0;34m\u001b[0m\u001b[0;34m\u001b[0m\u001b[0m\n\u001b[1;32m     10\u001b[0m \u001b[0;34m\u001b[0m\u001b[0m\n",
            "\u001b[0;32m/usr/local/lib/python3.10/dist-packages/pandas/core/generic.py\u001b[0m in \u001b[0;36m__delitem__\u001b[0;34m(self, key)\u001b[0m\n\u001b[1;32m   4504\u001b[0m             \u001b[0;31m# there was no match, this call should raise the appropriate\u001b[0m\u001b[0;34m\u001b[0m\u001b[0;34m\u001b[0m\u001b[0m\n\u001b[1;32m   4505\u001b[0m             \u001b[0;31m# exception:\u001b[0m\u001b[0;34m\u001b[0m\u001b[0;34m\u001b[0m\u001b[0m\n\u001b[0;32m-> 4506\u001b[0;31m             \u001b[0mloc\u001b[0m \u001b[0;34m=\u001b[0m \u001b[0mself\u001b[0m\u001b[0;34m.\u001b[0m\u001b[0maxes\u001b[0m\u001b[0;34m[\u001b[0m\u001b[0;34m-\u001b[0m\u001b[0;36m1\u001b[0m\u001b[0;34m]\u001b[0m\u001b[0;34m.\u001b[0m\u001b[0mget_loc\u001b[0m\u001b[0;34m(\u001b[0m\u001b[0mkey\u001b[0m\u001b[0;34m)\u001b[0m\u001b[0;34m\u001b[0m\u001b[0;34m\u001b[0m\u001b[0m\n\u001b[0m\u001b[1;32m   4507\u001b[0m             \u001b[0mself\u001b[0m\u001b[0;34m.\u001b[0m\u001b[0m_mgr\u001b[0m \u001b[0;34m=\u001b[0m \u001b[0mself\u001b[0m\u001b[0;34m.\u001b[0m\u001b[0m_mgr\u001b[0m\u001b[0;34m.\u001b[0m\u001b[0midelete\u001b[0m\u001b[0;34m(\u001b[0m\u001b[0mloc\u001b[0m\u001b[0;34m)\u001b[0m\u001b[0;34m\u001b[0m\u001b[0;34m\u001b[0m\u001b[0m\n\u001b[1;32m   4508\u001b[0m \u001b[0;34m\u001b[0m\u001b[0m\n",
            "\u001b[0;32m/usr/local/lib/python3.10/dist-packages/pandas/core/indexes/base.py\u001b[0m in \u001b[0;36mget_loc\u001b[0;34m(self, key)\u001b[0m\n\u001b[1;32m   3810\u001b[0m             ):\n\u001b[1;32m   3811\u001b[0m                 \u001b[0;32mraise\u001b[0m \u001b[0mInvalidIndexError\u001b[0m\u001b[0;34m(\u001b[0m\u001b[0mkey\u001b[0m\u001b[0;34m)\u001b[0m\u001b[0;34m\u001b[0m\u001b[0;34m\u001b[0m\u001b[0m\n\u001b[0;32m-> 3812\u001b[0;31m             \u001b[0;32mraise\u001b[0m \u001b[0mKeyError\u001b[0m\u001b[0;34m(\u001b[0m\u001b[0mkey\u001b[0m\u001b[0;34m)\u001b[0m \u001b[0;32mfrom\u001b[0m \u001b[0merr\u001b[0m\u001b[0;34m\u001b[0m\u001b[0;34m\u001b[0m\u001b[0m\n\u001b[0m\u001b[1;32m   3813\u001b[0m         \u001b[0;32mexcept\u001b[0m \u001b[0mTypeError\u001b[0m\u001b[0;34m:\u001b[0m\u001b[0;34m\u001b[0m\u001b[0;34m\u001b[0m\u001b[0m\n\u001b[1;32m   3814\u001b[0m             \u001b[0;31m# If we have a listlike key, _check_indexing_error will raise\u001b[0m\u001b[0;34m\u001b[0m\u001b[0;34m\u001b[0m\u001b[0m\n",
            "\u001b[0;31mKeyError\u001b[0m: 'smoking_history'"
          ]
        }
      ]
    },
    {
      "cell_type": "code",
      "source": [
        "mod_data= pd.read_csv('/content/diabetes_dataset_modified.csv')"
      ],
      "metadata": {
        "id": "fN2pfddgZBLT"
      },
      "execution_count": null,
      "outputs": []
    },
    {
      "cell_type": "code",
      "source": [
        "print(mod_data.isnull().sum())"
      ],
      "metadata": {
        "id": "MIToqjyPD3tR",
        "colab": {
          "base_uri": "https://localhost:8080/"
        },
        "outputId": "8ce50ed9-8570-423d-8222-ffd6232356a6"
      },
      "execution_count": null,
      "outputs": [
        {
          "output_type": "stream",
          "name": "stdout",
          "text": [
            "age                    0\n",
            "hypertension           0\n",
            "heart_disease          0\n",
            "bmi                    0\n",
            "HbA1c_level            0\n",
            "blood_glucose_level    0\n",
            "diabetes               0\n",
            "dtype: int64\n"
          ]
        }
      ]
    },
    {
      "cell_type": "code",
      "source": [
        "mod_data['diabetes'].value_counts()\n",
        "# 1 indicating the presence of diabetes and 0 inducating not diabetes."
      ],
      "metadata": {
        "id": "DVTcgybGD6Ng",
        "colab": {
          "base_uri": "https://localhost:8080/",
          "height": 176
        },
        "outputId": "7f5df59e-2e45-4626-8bd9-e4ce11467dcf"
      },
      "execution_count": null,
      "outputs": [
        {
          "output_type": "execute_result",
          "data": {
            "text/plain": [
              "diabetes\n",
              "0    91500\n",
              "1     8500\n",
              "Name: count, dtype: int64"
            ],
            "text/html": [
              "<div>\n",
              "<style scoped>\n",
              "    .dataframe tbody tr th:only-of-type {\n",
              "        vertical-align: middle;\n",
              "    }\n",
              "\n",
              "    .dataframe tbody tr th {\n",
              "        vertical-align: top;\n",
              "    }\n",
              "\n",
              "    .dataframe thead th {\n",
              "        text-align: right;\n",
              "    }\n",
              "</style>\n",
              "<table border=\"1\" class=\"dataframe\">\n",
              "  <thead>\n",
              "    <tr style=\"text-align: right;\">\n",
              "      <th></th>\n",
              "      <th>count</th>\n",
              "    </tr>\n",
              "    <tr>\n",
              "      <th>diabetes</th>\n",
              "      <th></th>\n",
              "    </tr>\n",
              "  </thead>\n",
              "  <tbody>\n",
              "    <tr>\n",
              "      <th>0</th>\n",
              "      <td>91500</td>\n",
              "    </tr>\n",
              "    <tr>\n",
              "      <th>1</th>\n",
              "      <td>8500</td>\n",
              "    </tr>\n",
              "  </tbody>\n",
              "</table>\n",
              "</div><br><label><b>dtype:</b> int64</label>"
            ]
          },
          "metadata": {},
          "execution_count": 26
        }
      ]
    },
    {
      "cell_type": "code",
      "source": [
        "mod_data.nunique()"
      ],
      "metadata": {
        "id": "YOMYTDrwD8t1",
        "colab": {
          "base_uri": "https://localhost:8080/",
          "height": 300
        },
        "outputId": "27bb0774-15d0-4835-98b7-847bf3812a34"
      },
      "execution_count": null,
      "outputs": [
        {
          "output_type": "execute_result",
          "data": {
            "text/plain": [
              "age                     102\n",
              "hypertension              2\n",
              "heart_disease             2\n",
              "bmi                    4247\n",
              "HbA1c_level              18\n",
              "blood_glucose_level      18\n",
              "diabetes                  2\n",
              "dtype: int64"
            ],
            "text/html": [
              "<div>\n",
              "<style scoped>\n",
              "    .dataframe tbody tr th:only-of-type {\n",
              "        vertical-align: middle;\n",
              "    }\n",
              "\n",
              "    .dataframe tbody tr th {\n",
              "        vertical-align: top;\n",
              "    }\n",
              "\n",
              "    .dataframe thead th {\n",
              "        text-align: right;\n",
              "    }\n",
              "</style>\n",
              "<table border=\"1\" class=\"dataframe\">\n",
              "  <thead>\n",
              "    <tr style=\"text-align: right;\">\n",
              "      <th></th>\n",
              "      <th>0</th>\n",
              "    </tr>\n",
              "  </thead>\n",
              "  <tbody>\n",
              "    <tr>\n",
              "      <th>age</th>\n",
              "      <td>102</td>\n",
              "    </tr>\n",
              "    <tr>\n",
              "      <th>hypertension</th>\n",
              "      <td>2</td>\n",
              "    </tr>\n",
              "    <tr>\n",
              "      <th>heart_disease</th>\n",
              "      <td>2</td>\n",
              "    </tr>\n",
              "    <tr>\n",
              "      <th>bmi</th>\n",
              "      <td>4247</td>\n",
              "    </tr>\n",
              "    <tr>\n",
              "      <th>HbA1c_level</th>\n",
              "      <td>18</td>\n",
              "    </tr>\n",
              "    <tr>\n",
              "      <th>blood_glucose_level</th>\n",
              "      <td>18</td>\n",
              "    </tr>\n",
              "    <tr>\n",
              "      <th>diabetes</th>\n",
              "      <td>2</td>\n",
              "    </tr>\n",
              "  </tbody>\n",
              "</table>\n",
              "</div><br><label><b>dtype:</b> int64</label>"
            ]
          },
          "metadata": {},
          "execution_count": 27
        }
      ]
    },
    {
      "cell_type": "code",
      "source": [
        "mod_data.groupby('diabetes').mean(numeric_only=True)"
      ],
      "metadata": {
        "id": "I-S3VdP3D_Lc",
        "colab": {
          "base_uri": "https://localhost:8080/",
          "height": 142
        },
        "outputId": "d46279ab-717b-4988-b2d7-1e25da3ed6df"
      },
      "execution_count": null,
      "outputs": [
        {
          "output_type": "execute_result",
          "data": {
            "text/plain": [
              "                age  hypertension  heart_disease        bmi  HbA1c_level  \\\n",
              "diabetes                                                                   \n",
              "0         40.115187      0.058984       0.029235  26.887163     5.396761   \n",
              "1         60.946588      0.245647       0.149059  31.988382     6.934953   \n",
              "\n",
              "          blood_glucose_level  \n",
              "diabetes                       \n",
              "0                  132.852470  \n",
              "1                  194.094706  "
            ],
            "text/html": [
              "\n",
              "  <div id=\"df-ebb6c803-156d-4da9-a848-d9fc48f2a13c\" class=\"colab-df-container\">\n",
              "    <div>\n",
              "<style scoped>\n",
              "    .dataframe tbody tr th:only-of-type {\n",
              "        vertical-align: middle;\n",
              "    }\n",
              "\n",
              "    .dataframe tbody tr th {\n",
              "        vertical-align: top;\n",
              "    }\n",
              "\n",
              "    .dataframe thead th {\n",
              "        text-align: right;\n",
              "    }\n",
              "</style>\n",
              "<table border=\"1\" class=\"dataframe\">\n",
              "  <thead>\n",
              "    <tr style=\"text-align: right;\">\n",
              "      <th></th>\n",
              "      <th>age</th>\n",
              "      <th>hypertension</th>\n",
              "      <th>heart_disease</th>\n",
              "      <th>bmi</th>\n",
              "      <th>HbA1c_level</th>\n",
              "      <th>blood_glucose_level</th>\n",
              "    </tr>\n",
              "    <tr>\n",
              "      <th>diabetes</th>\n",
              "      <th></th>\n",
              "      <th></th>\n",
              "      <th></th>\n",
              "      <th></th>\n",
              "      <th></th>\n",
              "      <th></th>\n",
              "    </tr>\n",
              "  </thead>\n",
              "  <tbody>\n",
              "    <tr>\n",
              "      <th>0</th>\n",
              "      <td>40.115187</td>\n",
              "      <td>0.058984</td>\n",
              "      <td>0.029235</td>\n",
              "      <td>26.887163</td>\n",
              "      <td>5.396761</td>\n",
              "      <td>132.852470</td>\n",
              "    </tr>\n",
              "    <tr>\n",
              "      <th>1</th>\n",
              "      <td>60.946588</td>\n",
              "      <td>0.245647</td>\n",
              "      <td>0.149059</td>\n",
              "      <td>31.988382</td>\n",
              "      <td>6.934953</td>\n",
              "      <td>194.094706</td>\n",
              "    </tr>\n",
              "  </tbody>\n",
              "</table>\n",
              "</div>\n",
              "    <div class=\"colab-df-buttons\">\n",
              "\n",
              "  <div class=\"colab-df-container\">\n",
              "    <button class=\"colab-df-convert\" onclick=\"convertToInteractive('df-ebb6c803-156d-4da9-a848-d9fc48f2a13c')\"\n",
              "            title=\"Convert this dataframe to an interactive table.\"\n",
              "            style=\"display:none;\">\n",
              "\n",
              "  <svg xmlns=\"http://www.w3.org/2000/svg\" height=\"24px\" viewBox=\"0 -960 960 960\">\n",
              "    <path d=\"M120-120v-720h720v720H120Zm60-500h600v-160H180v160Zm220 220h160v-160H400v160Zm0 220h160v-160H400v160ZM180-400h160v-160H180v160Zm440 0h160v-160H620v160ZM180-180h160v-160H180v160Zm440 0h160v-160H620v160Z\"/>\n",
              "  </svg>\n",
              "    </button>\n",
              "\n",
              "  <style>\n",
              "    .colab-df-container {\n",
              "      display:flex;\n",
              "      gap: 12px;\n",
              "    }\n",
              "\n",
              "    .colab-df-convert {\n",
              "      background-color: #E8F0FE;\n",
              "      border: none;\n",
              "      border-radius: 50%;\n",
              "      cursor: pointer;\n",
              "      display: none;\n",
              "      fill: #1967D2;\n",
              "      height: 32px;\n",
              "      padding: 0 0 0 0;\n",
              "      width: 32px;\n",
              "    }\n",
              "\n",
              "    .colab-df-convert:hover {\n",
              "      background-color: #E2EBFA;\n",
              "      box-shadow: 0px 1px 2px rgba(60, 64, 67, 0.3), 0px 1px 3px 1px rgba(60, 64, 67, 0.15);\n",
              "      fill: #174EA6;\n",
              "    }\n",
              "\n",
              "    .colab-df-buttons div {\n",
              "      margin-bottom: 4px;\n",
              "    }\n",
              "\n",
              "    [theme=dark] .colab-df-convert {\n",
              "      background-color: #3B4455;\n",
              "      fill: #D2E3FC;\n",
              "    }\n",
              "\n",
              "    [theme=dark] .colab-df-convert:hover {\n",
              "      background-color: #434B5C;\n",
              "      box-shadow: 0px 1px 3px 1px rgba(0, 0, 0, 0.15);\n",
              "      filter: drop-shadow(0px 1px 2px rgba(0, 0, 0, 0.3));\n",
              "      fill: #FFFFFF;\n",
              "    }\n",
              "  </style>\n",
              "\n",
              "    <script>\n",
              "      const buttonEl =\n",
              "        document.querySelector('#df-ebb6c803-156d-4da9-a848-d9fc48f2a13c button.colab-df-convert');\n",
              "      buttonEl.style.display =\n",
              "        google.colab.kernel.accessAllowed ? 'block' : 'none';\n",
              "\n",
              "      async function convertToInteractive(key) {\n",
              "        const element = document.querySelector('#df-ebb6c803-156d-4da9-a848-d9fc48f2a13c');\n",
              "        const dataTable =\n",
              "          await google.colab.kernel.invokeFunction('convertToInteractive',\n",
              "                                                    [key], {});\n",
              "        if (!dataTable) return;\n",
              "\n",
              "        const docLinkHtml = 'Like what you see? Visit the ' +\n",
              "          '<a target=\"_blank\" href=https://colab.research.google.com/notebooks/data_table.ipynb>data table notebook</a>'\n",
              "          + ' to learn more about interactive tables.';\n",
              "        element.innerHTML = '';\n",
              "        dataTable['output_type'] = 'display_data';\n",
              "        await google.colab.output.renderOutput(dataTable, element);\n",
              "        const docLink = document.createElement('div');\n",
              "        docLink.innerHTML = docLinkHtml;\n",
              "        element.appendChild(docLink);\n",
              "      }\n",
              "    </script>\n",
              "  </div>\n",
              "\n",
              "\n",
              "<div id=\"df-b972b7cd-c3c0-476e-9539-2948008a702d\">\n",
              "  <button class=\"colab-df-quickchart\" onclick=\"quickchart('df-b972b7cd-c3c0-476e-9539-2948008a702d')\"\n",
              "            title=\"Suggest charts\"\n",
              "            style=\"display:none;\">\n",
              "\n",
              "<svg xmlns=\"http://www.w3.org/2000/svg\" height=\"24px\"viewBox=\"0 0 24 24\"\n",
              "     width=\"24px\">\n",
              "    <g>\n",
              "        <path d=\"M19 3H5c-1.1 0-2 .9-2 2v14c0 1.1.9 2 2 2h14c1.1 0 2-.9 2-2V5c0-1.1-.9-2-2-2zM9 17H7v-7h2v7zm4 0h-2V7h2v10zm4 0h-2v-4h2v4z\"/>\n",
              "    </g>\n",
              "</svg>\n",
              "  </button>\n",
              "\n",
              "<style>\n",
              "  .colab-df-quickchart {\n",
              "      --bg-color: #E8F0FE;\n",
              "      --fill-color: #1967D2;\n",
              "      --hover-bg-color: #E2EBFA;\n",
              "      --hover-fill-color: #174EA6;\n",
              "      --disabled-fill-color: #AAA;\n",
              "      --disabled-bg-color: #DDD;\n",
              "  }\n",
              "\n",
              "  [theme=dark] .colab-df-quickchart {\n",
              "      --bg-color: #3B4455;\n",
              "      --fill-color: #D2E3FC;\n",
              "      --hover-bg-color: #434B5C;\n",
              "      --hover-fill-color: #FFFFFF;\n",
              "      --disabled-bg-color: #3B4455;\n",
              "      --disabled-fill-color: #666;\n",
              "  }\n",
              "\n",
              "  .colab-df-quickchart {\n",
              "    background-color: var(--bg-color);\n",
              "    border: none;\n",
              "    border-radius: 50%;\n",
              "    cursor: pointer;\n",
              "    display: none;\n",
              "    fill: var(--fill-color);\n",
              "    height: 32px;\n",
              "    padding: 0;\n",
              "    width: 32px;\n",
              "  }\n",
              "\n",
              "  .colab-df-quickchart:hover {\n",
              "    background-color: var(--hover-bg-color);\n",
              "    box-shadow: 0 1px 2px rgba(60, 64, 67, 0.3), 0 1px 3px 1px rgba(60, 64, 67, 0.15);\n",
              "    fill: var(--button-hover-fill-color);\n",
              "  }\n",
              "\n",
              "  .colab-df-quickchart-complete:disabled,\n",
              "  .colab-df-quickchart-complete:disabled:hover {\n",
              "    background-color: var(--disabled-bg-color);\n",
              "    fill: var(--disabled-fill-color);\n",
              "    box-shadow: none;\n",
              "  }\n",
              "\n",
              "  .colab-df-spinner {\n",
              "    border: 2px solid var(--fill-color);\n",
              "    border-color: transparent;\n",
              "    border-bottom-color: var(--fill-color);\n",
              "    animation:\n",
              "      spin 1s steps(1) infinite;\n",
              "  }\n",
              "\n",
              "  @keyframes spin {\n",
              "    0% {\n",
              "      border-color: transparent;\n",
              "      border-bottom-color: var(--fill-color);\n",
              "      border-left-color: var(--fill-color);\n",
              "    }\n",
              "    20% {\n",
              "      border-color: transparent;\n",
              "      border-left-color: var(--fill-color);\n",
              "      border-top-color: var(--fill-color);\n",
              "    }\n",
              "    30% {\n",
              "      border-color: transparent;\n",
              "      border-left-color: var(--fill-color);\n",
              "      border-top-color: var(--fill-color);\n",
              "      border-right-color: var(--fill-color);\n",
              "    }\n",
              "    40% {\n",
              "      border-color: transparent;\n",
              "      border-right-color: var(--fill-color);\n",
              "      border-top-color: var(--fill-color);\n",
              "    }\n",
              "    60% {\n",
              "      border-color: transparent;\n",
              "      border-right-color: var(--fill-color);\n",
              "    }\n",
              "    80% {\n",
              "      border-color: transparent;\n",
              "      border-right-color: var(--fill-color);\n",
              "      border-bottom-color: var(--fill-color);\n",
              "    }\n",
              "    90% {\n",
              "      border-color: transparent;\n",
              "      border-bottom-color: var(--fill-color);\n",
              "    }\n",
              "  }\n",
              "</style>\n",
              "\n",
              "  <script>\n",
              "    async function quickchart(key) {\n",
              "      const quickchartButtonEl =\n",
              "        document.querySelector('#' + key + ' button');\n",
              "      quickchartButtonEl.disabled = true;  // To prevent multiple clicks.\n",
              "      quickchartButtonEl.classList.add('colab-df-spinner');\n",
              "      try {\n",
              "        const charts = await google.colab.kernel.invokeFunction(\n",
              "            'suggestCharts', [key], {});\n",
              "      } catch (error) {\n",
              "        console.error('Error during call to suggestCharts:', error);\n",
              "      }\n",
              "      quickchartButtonEl.classList.remove('colab-df-spinner');\n",
              "      quickchartButtonEl.classList.add('colab-df-quickchart-complete');\n",
              "    }\n",
              "    (() => {\n",
              "      let quickchartButtonEl =\n",
              "        document.querySelector('#df-b972b7cd-c3c0-476e-9539-2948008a702d button');\n",
              "      quickchartButtonEl.style.display =\n",
              "        google.colab.kernel.accessAllowed ? 'block' : 'none';\n",
              "    })();\n",
              "  </script>\n",
              "</div>\n",
              "\n",
              "    </div>\n",
              "  </div>\n"
            ],
            "application/vnd.google.colaboratory.intrinsic+json": {
              "type": "dataframe",
              "summary": "{\n  \"name\": \"mod_data\",\n  \"rows\": 2,\n  \"fields\": [\n    {\n      \"column\": \"diabetes\",\n      \"properties\": {\n        \"dtype\": \"number\",\n        \"std\": 0,\n        \"min\": 0,\n        \"max\": 1,\n        \"num_unique_values\": 2,\n        \"samples\": [\n          1,\n          0\n        ],\n        \"semantic_type\": \"\",\n        \"description\": \"\"\n      }\n    },\n    {\n      \"column\": \"age\",\n      \"properties\": {\n        \"dtype\": \"number\",\n        \"std\": 14.73002515623769,\n        \"min\": 40.115186885245905,\n        \"max\": 60.946588235294115,\n        \"num_unique_values\": 2,\n        \"samples\": [\n          60.946588235294115,\n          40.115186885245905\n        ],\n        \"semantic_type\": \"\",\n        \"description\": \"\"\n      }\n    },\n    {\n      \"column\": \"hypertension\",\n      \"properties\": {\n        \"dtype\": \"number\",\n        \"std\": 0.13199099289708774,\n        \"min\": 0.05898360655737705,\n        \"max\": 0.2456470588235294,\n        \"num_unique_values\": 2,\n        \"samples\": [\n          0.2456470588235294,\n          0.05898360655737705\n        ],\n        \"semantic_type\": \"\",\n        \"description\": \"\"\n      }\n    },\n    {\n      \"column\": \"heart_disease\",\n      \"properties\": {\n        \"dtype\": \"number\",\n        \"std\": 0.08472825748520466,\n        \"min\": 0.029234972677595627,\n        \"max\": 0.14905882352941177,\n        \"num_unique_values\": 2,\n        \"samples\": [\n          0.14905882352941177,\n          0.029234972677595627\n        ],\n        \"semantic_type\": \"\",\n        \"description\": \"\"\n      }\n    },\n    {\n      \"column\": \"bmi\",\n      \"properties\": {\n        \"dtype\": \"number\",\n        \"std\": 3.6071064451633523,\n        \"min\": 26.88716349726776,\n        \"max\": 31.988382352941176,\n        \"num_unique_values\": 2,\n        \"samples\": [\n          31.988382352941176,\n          26.88716349726776\n        ],\n        \"semantic_type\": \"\",\n        \"description\": \"\"\n      }\n    },\n    {\n      \"column\": \"HbA1c_level\",\n      \"properties\": {\n        \"dtype\": \"number\",\n        \"std\": 1.0876661958025846,\n        \"min\": 5.396760655737705,\n        \"max\": 6.93495294117647,\n        \"num_unique_values\": 2,\n        \"samples\": [\n          6.93495294117647,\n          5.396760655737705\n        ],\n        \"semantic_type\": \"\",\n        \"description\": \"\"\n      }\n    },\n    {\n      \"column\": \"blood_glucose_level\",\n      \"properties\": {\n        \"dtype\": \"number\",\n        \"std\": 43.30480032607759,\n        \"min\": 132.85246994535518,\n        \"max\": 194.09470588235294,\n        \"num_unique_values\": 2,\n        \"samples\": [\n          194.09470588235294,\n          132.85246994535518\n        ],\n        \"semantic_type\": \"\",\n        \"description\": \"\"\n      }\n    }\n  ]\n}"
            }
          },
          "metadata": {},
          "execution_count": 28
        }
      ]
    },
    {
      "cell_type": "code",
      "source": [
        "import seaborn as sns\n",
        "sns.countplot(x='age', data=mod_data)\n",
        "plt.show()\n",
        "\n",
        "sns.countplot(x='hypertension', data=mod_data)\n",
        "plt.show()\n",
        "\n",
        "sns.countplot(x='HbA1c_level', data=mod_data)\n",
        "plt.show()\n",
        "\n",
        "sns.countplot(x='bmi', data=mod_data)\n",
        "plt.show()\n",
        "\n",
        "sns.countplot(x='blood_glucose_level', data=mod_data)\n",
        "plt.show()\n",
        "\n",
        "sns.countplot(x='heart_disease', data=mod_data)\n",
        "plt.show()"
      ],
      "metadata": {
        "id": "lV0G_Tn1EBuY",
        "colab": {
          "base_uri": "https://localhost:8080/",
          "height": 350
        },
        "outputId": "c2aff3d3-e8f9-42e2-cb79-5b66675b3d6d"
      },
      "execution_count": null,
      "outputs": [
        {
          "output_type": "error",
          "ename": "AttributeError",
          "evalue": "partially initialized module 'patsy' has no attribute 'highlevel' (most likely due to a circular import)",
          "traceback": [
            "\u001b[0;31m---------------------------------------------------------------------------\u001b[0m",
            "\u001b[0;31mAttributeError\u001b[0m                            Traceback (most recent call last)",
            "\u001b[0;32m<ipython-input-30-3c31e9f5b6ab>\u001b[0m in \u001b[0;36m<cell line: 1>\u001b[0;34m()\u001b[0m\n\u001b[0;32m----> 1\u001b[0;31m \u001b[0;32mimport\u001b[0m \u001b[0mseaborn\u001b[0m \u001b[0;32mas\u001b[0m \u001b[0msns\u001b[0m\u001b[0;34m\u001b[0m\u001b[0;34m\u001b[0m\u001b[0m\n\u001b[0m\u001b[1;32m      2\u001b[0m \u001b[0msns\u001b[0m\u001b[0;34m.\u001b[0m\u001b[0mcountplot\u001b[0m\u001b[0;34m(\u001b[0m\u001b[0mx\u001b[0m\u001b[0;34m=\u001b[0m\u001b[0;34m'age'\u001b[0m\u001b[0;34m,\u001b[0m \u001b[0mdata\u001b[0m\u001b[0;34m=\u001b[0m\u001b[0mmod_data\u001b[0m\u001b[0;34m)\u001b[0m\u001b[0;34m\u001b[0m\u001b[0;34m\u001b[0m\u001b[0m\n\u001b[1;32m      3\u001b[0m \u001b[0mplt\u001b[0m\u001b[0;34m.\u001b[0m\u001b[0mshow\u001b[0m\u001b[0;34m(\u001b[0m\u001b[0;34m)\u001b[0m\u001b[0;34m\u001b[0m\u001b[0;34m\u001b[0m\u001b[0m\n\u001b[1;32m      4\u001b[0m \u001b[0;34m\u001b[0m\u001b[0m\n\u001b[1;32m      5\u001b[0m \u001b[0msns\u001b[0m\u001b[0;34m.\u001b[0m\u001b[0mcountplot\u001b[0m\u001b[0;34m(\u001b[0m\u001b[0mx\u001b[0m\u001b[0;34m=\u001b[0m\u001b[0;34m'hypertension'\u001b[0m\u001b[0;34m,\u001b[0m \u001b[0mdata\u001b[0m\u001b[0;34m=\u001b[0m\u001b[0mmod_data\u001b[0m\u001b[0;34m)\u001b[0m\u001b[0;34m\u001b[0m\u001b[0;34m\u001b[0m\u001b[0m\n",
            "\u001b[0;32m/usr/local/lib/python3.10/dist-packages/seaborn/__init__.py\u001b[0m in \u001b[0;36m<module>\u001b[0;34m\u001b[0m\n\u001b[1;32m      4\u001b[0m \u001b[0;32mfrom\u001b[0m \u001b[0;34m.\u001b[0m\u001b[0mpalettes\u001b[0m \u001b[0;32mimport\u001b[0m \u001b[0;34m*\u001b[0m  \u001b[0;31m# noqa: F401,F403\u001b[0m\u001b[0;34m\u001b[0m\u001b[0;34m\u001b[0m\u001b[0m\n\u001b[1;32m      5\u001b[0m \u001b[0;32mfrom\u001b[0m \u001b[0;34m.\u001b[0m\u001b[0mrelational\u001b[0m \u001b[0;32mimport\u001b[0m \u001b[0;34m*\u001b[0m  \u001b[0;31m# noqa: F401,F403\u001b[0m\u001b[0;34m\u001b[0m\u001b[0;34m\u001b[0m\u001b[0m\n\u001b[0;32m----> 6\u001b[0;31m \u001b[0;32mfrom\u001b[0m \u001b[0;34m.\u001b[0m\u001b[0mregression\u001b[0m \u001b[0;32mimport\u001b[0m \u001b[0;34m*\u001b[0m  \u001b[0;31m# noqa: F401,F403\u001b[0m\u001b[0;34m\u001b[0m\u001b[0;34m\u001b[0m\u001b[0m\n\u001b[0m\u001b[1;32m      7\u001b[0m \u001b[0;32mfrom\u001b[0m \u001b[0;34m.\u001b[0m\u001b[0mcategorical\u001b[0m \u001b[0;32mimport\u001b[0m \u001b[0;34m*\u001b[0m  \u001b[0;31m# noqa: F401,F403\u001b[0m\u001b[0;34m\u001b[0m\u001b[0;34m\u001b[0m\u001b[0m\n\u001b[1;32m      8\u001b[0m \u001b[0;32mfrom\u001b[0m \u001b[0;34m.\u001b[0m\u001b[0mdistributions\u001b[0m \u001b[0;32mimport\u001b[0m \u001b[0;34m*\u001b[0m  \u001b[0;31m# noqa: F401,F403\u001b[0m\u001b[0;34m\u001b[0m\u001b[0;34m\u001b[0m\u001b[0m\n",
            "\u001b[0;32m/usr/local/lib/python3.10/dist-packages/seaborn/regression.py\u001b[0m in \u001b[0;36m<module>\u001b[0;34m\u001b[0m\n\u001b[1;32m      9\u001b[0m \u001b[0;34m\u001b[0m\u001b[0m\n\u001b[1;32m     10\u001b[0m \u001b[0;32mtry\u001b[0m\u001b[0;34m:\u001b[0m\u001b[0;34m\u001b[0m\u001b[0;34m\u001b[0m\u001b[0m\n\u001b[0;32m---> 11\u001b[0;31m     \u001b[0;32mimport\u001b[0m \u001b[0mstatsmodels\u001b[0m\u001b[0;34m\u001b[0m\u001b[0;34m\u001b[0m\u001b[0m\n\u001b[0m\u001b[1;32m     12\u001b[0m     \u001b[0;32massert\u001b[0m \u001b[0mstatsmodels\u001b[0m\u001b[0;34m\u001b[0m\u001b[0;34m\u001b[0m\u001b[0m\n\u001b[1;32m     13\u001b[0m     \u001b[0m_has_statsmodels\u001b[0m \u001b[0;34m=\u001b[0m \u001b[0;32mTrue\u001b[0m\u001b[0;34m\u001b[0m\u001b[0;34m\u001b[0m\u001b[0m\n",
            "\u001b[0;32m/usr/local/lib/python3.10/dist-packages/statsmodels/__init__.py\u001b[0m in \u001b[0;36m<module>\u001b[0;34m\u001b[0m\n\u001b[0;32m----> 1\u001b[0;31m \u001b[0;32mfrom\u001b[0m \u001b[0mstatsmodels\u001b[0m\u001b[0;34m.\u001b[0m\u001b[0mcompat\u001b[0m\u001b[0;34m.\u001b[0m\u001b[0mpatsy\u001b[0m \u001b[0;32mimport\u001b[0m \u001b[0mmonkey_patch_cat_dtype\u001b[0m\u001b[0;34m\u001b[0m\u001b[0;34m\u001b[0m\u001b[0m\n\u001b[0m\u001b[1;32m      2\u001b[0m \u001b[0;34m\u001b[0m\u001b[0m\n\u001b[1;32m      3\u001b[0m \u001b[0;32mfrom\u001b[0m \u001b[0mstatsmodels\u001b[0m\u001b[0;34m.\u001b[0m\u001b[0m_version\u001b[0m \u001b[0;32mimport\u001b[0m \u001b[0m__version__\u001b[0m\u001b[0;34m,\u001b[0m \u001b[0m__version_tuple__\u001b[0m\u001b[0;34m\u001b[0m\u001b[0;34m\u001b[0m\u001b[0m\n\u001b[1;32m      4\u001b[0m \u001b[0;34m\u001b[0m\u001b[0m\n\u001b[1;32m      5\u001b[0m \u001b[0m__version_info__\u001b[0m \u001b[0;34m=\u001b[0m \u001b[0m__version_tuple__\u001b[0m\u001b[0;34m\u001b[0m\u001b[0;34m\u001b[0m\u001b[0m\n",
            "\u001b[0;32m/usr/local/lib/python3.10/dist-packages/statsmodels/compat/patsy.py\u001b[0m in \u001b[0;36m<module>\u001b[0;34m\u001b[0m\n\u001b[1;32m      2\u001b[0m \u001b[0;34m\u001b[0m\u001b[0m\n\u001b[1;32m      3\u001b[0m \u001b[0;32mimport\u001b[0m \u001b[0mpandas\u001b[0m \u001b[0;32mas\u001b[0m \u001b[0mpd\u001b[0m\u001b[0;34m\u001b[0m\u001b[0;34m\u001b[0m\u001b[0m\n\u001b[0;32m----> 4\u001b[0;31m \u001b[0;32mimport\u001b[0m \u001b[0mpatsy\u001b[0m\u001b[0;34m.\u001b[0m\u001b[0mutil\u001b[0m\u001b[0;34m\u001b[0m\u001b[0;34m\u001b[0m\u001b[0m\n\u001b[0m\u001b[1;32m      5\u001b[0m \u001b[0;34m\u001b[0m\u001b[0m\n\u001b[1;32m      6\u001b[0m \u001b[0;34m\u001b[0m\u001b[0m\n",
            "\u001b[0;32m/usr/local/lib/python3.10/dist-packages/patsy/__init__.py\u001b[0m in \u001b[0;36m<module>\u001b[0;34m\u001b[0m\n\u001b[1;32m     87\u001b[0m \u001b[0;32mimport\u001b[0m \u001b[0mpatsy\u001b[0m\u001b[0;34m.\u001b[0m\u001b[0mhighlevel\u001b[0m\u001b[0;34m\u001b[0m\u001b[0;34m\u001b[0m\u001b[0m\n\u001b[1;32m     88\u001b[0m \u001b[0;34m\u001b[0m\u001b[0m\n\u001b[0;32m---> 89\u001b[0;31m \u001b[0m_reexport\u001b[0m\u001b[0;34m(\u001b[0m\u001b[0mpatsy\u001b[0m\u001b[0;34m.\u001b[0m\u001b[0mhighlevel\u001b[0m\u001b[0;34m)\u001b[0m\u001b[0;34m\u001b[0m\u001b[0;34m\u001b[0m\u001b[0m\n\u001b[0m\u001b[1;32m     90\u001b[0m \u001b[0;34m\u001b[0m\u001b[0m\n\u001b[1;32m     91\u001b[0m \u001b[0;32mimport\u001b[0m \u001b[0mpatsy\u001b[0m\u001b[0;34m.\u001b[0m\u001b[0mbuild\u001b[0m\u001b[0;34m\u001b[0m\u001b[0;34m\u001b[0m\u001b[0m\n",
            "\u001b[0;31mAttributeError\u001b[0m: partially initialized module 'patsy' has no attribute 'highlevel' (most likely due to a circular import)"
          ]
        }
      ]
    },
    {
      "cell_type": "code",
      "source": [
        "sns.pairplot(mod_data)\n",
        "plt.show()\n"
      ],
      "metadata": {
        "id": "_A_Z7GfXEM8c"
      },
      "execution_count": null,
      "outputs": []
    },
    {
      "cell_type": "markdown",
      "source": [
        "SPLITTING DATA"
      ],
      "metadata": {
        "id": "u6AWXgoyEPSI"
      }
    },
    {
      "cell_type": "code",
      "source": [
        "# Import necessary libraries\n",
        "import pandas as pd\n",
        "from sklearn.model_selection import train_test_split\n",
        "from sklearn.preprocessing import MinMaxScaler\n",
        "import numpy as np\n",
        "from sklearn.neighbors import KNeighborsClassifier\n",
        "from sklearn.metrics import accuracy_score, classification_report, confusion_matrix\n",
        "import numpy as np\n",
        "import pandas as pd\n",
        "import re\n",
        "from sklearn.metrics import (\n",
        "    accuracy_score, roc_auc_score, precision_score, recall_score,\n",
        "    f1_score, confusion_matrix, roc_curve, auc\n",
        ")\n",
        "import seaborn as sns\n",
        "import matplotlib.pyplot as plt\n",
        "from sklearn.metrics import (\n",
        "    mean_squared_error, mean_absolute_error, r2_score\n",
        ")\n",
        "from scipy.stats import pearsonr\n",
        "from regressormetricgraphplot import CompareModels\n",
        "from sklearn.tree import DecisionTreeClassifier\n",
        "from sklearn.metrics import roc_curve, roc_auc_score\n",
        "from sklearn.naive_bayes import GaussianNB\n",
        "from math import sqrt"
      ],
      "metadata": {
        "id": "dLp5OupEEQvH"
      },
      "execution_count": null,
      "outputs": []
    },
    {
      "cell_type": "code",
      "source": [
        "# Separate features and target\n",
        "# Replace 'Target' with the actual name of your target column\n",
        "X = mod_data.drop('diabetes', axis=1)  # Features\n",
        "y = mod_data['diabetes']               # Target\n"
      ],
      "metadata": {
        "id": "3nDio6JAGG2g"
      },
      "execution_count": null,
      "outputs": []
    },
    {
      "cell_type": "code",
      "source": [
        "# Split data into training and testing sets\n",
        "X_train, X_test, y_train, y_test = train_test_split(X, y, test_size=0.2, random_state=2)\n"
      ],
      "metadata": {
        "id": "9gP3BKopGLn6"
      },
      "execution_count": null,
      "outputs": []
    },
    {
      "cell_type": "markdown",
      "source": [
        "KNN"
      ],
      "metadata": {
        "id": "A0dYhRVBGwEu"
      }
    },
    {
      "cell_type": "code",
      "source": [
        "# Initialize and train the KNN classifier\n",
        "knn = KNeighborsClassifier(n_neighbors=5)\n",
        "knn.fit(X_train, y_train)\n",
        "# Make predictions\n",
        "y_pred_knn = knn.predict(X_test)\n",
        "y_prob_knn = knn.predict_proba(X_test)[:, 1]  # Predicted probabilities for ROC-AUC\n"
      ],
      "metadata": {
        "id": "ouWvV15TW-Gm",
        "colab": {
          "base_uri": "https://localhost:8080/",
          "height": 211
        },
        "outputId": "3d5113f3-e9a0-4396-cce1-0f4353be4913"
      },
      "execution_count": null,
      "outputs": [
        {
          "output_type": "error",
          "ename": "NameError",
          "evalue": "name 'KNeighborsClassifier' is not defined",
          "traceback": [
            "\u001b[0;31m---------------------------------------------------------------------------\u001b[0m",
            "\u001b[0;31mNameError\u001b[0m                                 Traceback (most recent call last)",
            "\u001b[0;32m<ipython-input-6-1deef9d5c4a5>\u001b[0m in \u001b[0;36m<cell line: 2>\u001b[0;34m()\u001b[0m\n\u001b[1;32m      1\u001b[0m \u001b[0;31m# Initialize and train the KNN classifier\u001b[0m\u001b[0;34m\u001b[0m\u001b[0;34m\u001b[0m\u001b[0m\n\u001b[0;32m----> 2\u001b[0;31m \u001b[0mknn\u001b[0m \u001b[0;34m=\u001b[0m \u001b[0mKNeighborsClassifier\u001b[0m\u001b[0;34m(\u001b[0m\u001b[0mn_neighbors\u001b[0m\u001b[0;34m=\u001b[0m\u001b[0;36m5\u001b[0m\u001b[0;34m)\u001b[0m\u001b[0;34m\u001b[0m\u001b[0;34m\u001b[0m\u001b[0m\n\u001b[0m\u001b[1;32m      3\u001b[0m \u001b[0mknn\u001b[0m\u001b[0;34m.\u001b[0m\u001b[0mfit\u001b[0m\u001b[0;34m(\u001b[0m\u001b[0mX_train\u001b[0m\u001b[0;34m,\u001b[0m \u001b[0my_train\u001b[0m\u001b[0;34m)\u001b[0m\u001b[0;34m\u001b[0m\u001b[0;34m\u001b[0m\u001b[0m\n\u001b[1;32m      4\u001b[0m \u001b[0;31m# Make predictions\u001b[0m\u001b[0;34m\u001b[0m\u001b[0;34m\u001b[0m\u001b[0m\n\u001b[1;32m      5\u001b[0m \u001b[0my_pred_knn\u001b[0m \u001b[0;34m=\u001b[0m \u001b[0mknn\u001b[0m\u001b[0;34m.\u001b[0m\u001b[0mpredict\u001b[0m\u001b[0;34m(\u001b[0m\u001b[0mX_test\u001b[0m\u001b[0;34m)\u001b[0m\u001b[0;34m\u001b[0m\u001b[0;34m\u001b[0m\u001b[0m\n",
            "\u001b[0;31mNameError\u001b[0m: name 'KNeighborsClassifier' is not defined"
          ]
        }
      ]
    },
    {
      "cell_type": "code",
      "source": [
        "# Calculate evaluation metrics\n",
        "acc_knn = accuracy_score(y_test, y_pred_knn)\n",
        "prec_knn = precision_score(y_test, y_pred_knn)\n",
        "recall_knn = recall_score(y_test, y_pred_knn)\n",
        "f1_knn = f1_score(y_test, y_pred_knn)\n",
        "roc_auc_knn = roc_auc_score(y_test, y_prob_knn)\n",
        "\n",
        "print(f\"Accuracy: {acc_knn:.2f}\")\n",
        "print(f\"Precision: {prec_knn:.2f}\")\n",
        "print(f\"Recall: {recall_knn:.2f}\")\n",
        "print(f\"F1 Score: {f1_knn:.2f}\")\n",
        "print(f\"ROC-AUC: {roc_auc_knn:.2f}\")\n",
        "\n",
        "\n",
        "# Generate a classification report\n",
        "class_report = classification_report(y_test, y_pred_knn)\n",
        "print(\"\\nClassification Report:\")\n",
        "print(class_report)\n",
        "\n",
        "# Confusion Matrix\n",
        "conf_matrix = confusion_matrix(y_test, y_pred_knn)\n",
        "plt.figure(figsize=(8, 6))\n",
        "plt.title('Confusion Matrix', fontsize=16)\n",
        "sns.heatmap(conf_matrix, annot=True, fmt='d', cmap='coolwarm', xticklabels=['Non-Diabetic', 'Diabetic'], yticklabels=['Non-Diabetic', 'Diabetic'])\n",
        "plt.xlabel('Predicted', fontsize=14)\n",
        "plt.ylabel('Actual', fontsize=14)\n",
        "plt.show()"
      ],
      "metadata": {
        "id": "O4JSjz8YbL8T"
      },
      "execution_count": null,
      "outputs": []
    },
    {
      "cell_type": "code",
      "source": [
        "# Calculate metrics\n",
        "# 1. R (Pearson Coefficient)\n",
        "r_knn, _ = pearsonr(y_test, y_pred_knn)\n",
        "# 2. R² Score\n",
        "r2_knn = r2_score(y_test, y_pred_knn)\n",
        "\n",
        "# 3. Root Mean Squared Error (RMSE)\n",
        "rmse_knn= np.sqrt(mean_squared_error(y_test, y_pred_knn))\n",
        "\n",
        "# 4. Mean Absolute Error (MAE)\n",
        "mae_knn= mean_absolute_error(y_test, y_pred_knn)\n",
        "\n",
        "# Print the metrics\n",
        "print(f\"R (Pearson Coefficient): {r_knn:.2f}\")\n",
        "print(f\"R² Score: {r2_knn:.2f}\")\n",
        "print(f\"Root Mean Squared Error (RMSE): {rmse_knn:.2f}\")\n",
        "print(f\"Mean Absolute Error (MAE): {mae_knn:.2f}\")\n",
        "\n",
        "# Visualization of Metrics\n",
        "metrics = ['R (Pearson)', 'R² Score', 'RMSE', 'MAE']\n",
        "values = [r_knn, r2_knn, rmse_knn, mae_knn]\n",
        "\n",
        "plt.figure(figsize=(10, 6))\n",
        "sns.barplot(x=metrics, y=values, palette='coolwarm')\n",
        "plt.title('Performance Metrics', fontsize=16)\n",
        "plt.ylabel('Score', fontsize=14)\n",
        "plt.xlabel('Metrics', fontsize=14)\n",
        "plt.xticks(rotation=45, ha='right', fontsize=12)\n",
        "plt.yticks(fontsize=12)\n",
        "for i, v in enumerate(values):\n",
        "    plt.text(i, v , f\"{v:.2f}\", ha='center', fontsize=12)\n",
        "plt.show()"
      ],
      "metadata": {
        "id": "DAOoboYmdFjU"
      },
      "execution_count": null,
      "outputs": []
    },
    {
      "cell_type": "code",
      "source": [
        "# Comparative Metrics Table\n",
        "metrics_table = pd.DataFrame({\n",
        "    \"Metric\": [\"Pearson R\", \"R2 Score\", \"MSE\", \"RMSE\", \"Accuracy\", \"Recall\", \"Precision\", \"F1 Score\"],\n",
        "    \"KNN\": [r_knn, r2_knn, mae_knn, rmse_knn, acc_knn, recall_knn, prec_knn, f1_knn]\n",
        "})\n",
        "\n",
        "print(metrics_table)\n"
      ],
      "metadata": {
        "id": "qJyQ-YLXgFrZ"
      },
      "execution_count": null,
      "outputs": []
    },
    {
      "cell_type": "code",
      "source": [
        "# Function to plot ROC-AUC curves\n",
        "def plot_roc_auc(models):\n",
        "    plt.figure(figsize=(10, 8))\n",
        "    for model_name, model in models:\n",
        "        # Fit the model\n",
        "        model.fit(X_train, y_train)\n",
        "        y_prob = model.predict_proba(X_test)[:, 1]  # Probability scores\n",
        "\n",
        "        # Compute ROC curve and AUC\n",
        "        fpr, tpr, _ = roc_curve(y_test, y_prob)\n",
        "        auc = roc_auc_score(y_test, y_prob)\n",
        "\n",
        "        # Plot ROC curve\n",
        "        plt.plot(fpr, tpr, label=f'{model_name} (AUC = {auc:.2f})')\n",
        "\n",
        "    # Add plot details\n",
        "    plt.plot([0, 1], [0, 1], 'k--', label='Random Chance')\n",
        "    plt.title('ROC-AUC Curve Comparison', fontsize=16)\n",
        "    plt.xlabel('False Positive Rate (FPR)', fontsize=14)\n",
        "    plt.ylabel('True Positive Rate (TPR)', fontsize=14)\n",
        "    plt.legend(loc='lower right', fontsize=12)\n",
        "    plt.grid(alpha=0.3)\n",
        "    plt.tight_layout()\n",
        "    plt.show()\n",
        "\n",
        "# Initialize models\n",
        "models = [\n",
        "    (\"KNN\", KNeighborsClassifier(n_neighbors=5)),\n",
        "]\n",
        "\n",
        "# Plot ROC-AUC curves for all models\n",
        "plot_roc_auc(models)\n"
      ],
      "metadata": {
        "id": "HAUBvWnDPaLu"
      },
      "execution_count": null,
      "outputs": []
    },
    {
      "cell_type": "markdown",
      "source": [
        "Decision tree"
      ],
      "metadata": {
        "id": "XoubNJznKM9j"
      }
    },
    {
      "cell_type": "code",
      "source": [
        "# Train Decision Tree Classifier\n",
        "dt_model = DecisionTreeClassifier(random_state=42)\n",
        "dt_model.fit(X_train, y_train)\n",
        "\n",
        "# Make predictions\n",
        "y_pred_dt = dt_model.predict(X_test)\n",
        "y_prob_dt = dt_model.predict_proba(X_test)[:, 1]  # Probabilities for ROC-AUC\n"
      ],
      "metadata": {
        "id": "yWdNfhVMKup9"
      },
      "execution_count": null,
      "outputs": []
    },
    {
      "cell_type": "code",
      "source": [
        "# Confusion Matrix\n",
        "conf_matrix = confusion_matrix(y_test, y_pred_dt)\n",
        "\n",
        "# Visualize Confusion Matrix\n",
        "plt.figure(figsize=(8, 6))\n",
        "sns.heatmap(conf_matrix, annot=True, fmt='d', cmap='Blues',\n",
        "            xticklabels=['Non-Diabetic', 'Diabetic'],\n",
        "            yticklabels=['Non-Diabetic', 'Diabetic'])\n",
        "plt.title('Confusion Matrix', fontsize=16)\n",
        "plt.xlabel('Predicted', fontsize=14)\n",
        "plt.ylabel('Actual', fontsize=14)\n",
        "plt.show()\n"
      ],
      "metadata": {
        "id": "_7eyJOYLQGlQ"
      },
      "execution_count": null,
      "outputs": []
    },
    {
      "cell_type": "code",
      "source": [
        "from sklearn.metrics import accuracy_score\n",
        "# Calculate evaluation metrics\n",
        "accuracy_dt= accuracy_score(y_test, y_pred_dt)\n",
        "prec_dt = precision_score(y_test, y_pred_dt)\n",
        "recall_dt = recall_score(y_test, y_pred_dt)\n",
        "f1_dt = f1_score(y_test, y_pred_dt)\n",
        "roc_auc_dt = roc_auc_score(y_test, y_prob_dt)\n",
        "\n",
        "# Print evaluation metrics\n",
        "print(f\"Accuracy: {accuracy_dt:.2f}\")\n",
        "print(f\"Precision: {prec_dt:.2f}\")\n",
        "print(f\"Recall: {recall_dt:.2f}\")\n",
        "print(f\"F1 Score: {f1_dt:.2f}\")\n",
        "print(f\"ROC-AUC: {roc_auc_dt:.2f}\")\n",
        "# Calculate metrics\n",
        "# 1. R (Pearson Coefficient)\n",
        "r_dt, _ = pearsonr(y_test, y_pred_dt)\n",
        "\n",
        "# 2. R² Score\n",
        "r2_dt = r2_score(y_test, y_pred_dt)\n",
        "\n",
        "# 3.-dt Root Mean Squared Error (RMSE)\n",
        "rmse_dt = np.sqrt(mean_squared_error(y_test, y_pred_dt))\n",
        "\n",
        "# 4. Mean Absolute Error (MAE)\n",
        "mae_dt = mean_absolute_error(y_test, y_pred_dt)\n",
        "\n",
        "# Print the metrics\n",
        "print(f\"R (Pearson Coefficient): {r_dt:.2f}\")\n",
        "print(f\"R² Score: {r2_dt:.2f}\")\n",
        "print(f\"Root Mean Squared Error (RMSE): {rmse_dt:.2f}\")\n",
        "print(f\"Mean Absolute Error (MAE): {mae_dt:.2f}\")\n",
        "\n",
        "# Visualization of Metrics\n",
        "metrics = ['R (Pearson)', 'R² Score-dt', 'RMSE', 'MAE']\n",
        "values = [r_dt, r2_dt, rmse_dt, mae_dt]\n",
        "\n",
        "plt.figure(figsize=(10, 6))\n",
        "sns.barplot(x=metrics, y=values, palette='flare')\n",
        "plt.title('Performance Metrics', fontsize=16)\n",
        "plt.ylabel('Score', fontsize=14)\n",
        "plt.xlabel('Metrics', fontsize=14)\n",
        "plt.xticks(rotation=45, ha='right', fontsize=12)\n",
        "plt.yticks(fontsize=12)\n",
        "for i, v in enumerate(values):\n",
        "    plt.text(i, v , f\"{v:.2f}\", ha='center', fontsize=12)\n",
        "plt.show()"
      ],
      "metadata": {
        "id": "XBn9kSWWK3xf"
      },
      "execution_count": null,
      "outputs": []
    },
    {
      "cell_type": "code",
      "source": [
        "from sklearn.metrics import roc_curve, roc_auc_score\n",
        "\n",
        "# Function to plot ROC-AUC curves\n",
        "def plot_roc_auc(models):\n",
        "    plt.figure(figsize=(10, 8))\n",
        "    for model_name, model in models:\n",
        "        # Fit the model\n",
        "        model.fit(X_train, y_train)\n",
        "        y_prob = model.predict_proba(X_test)[:, 1]  # Probability scores\n",
        "\n",
        "        # Compute ROC curve and AUC\n",
        "        fpr, tpr, _ = roc_curve(y_test, y_prob)\n",
        "        auc = roc_auc_score(y_test, y_prob)\n",
        "\n",
        "        # Plot ROC curve\n",
        "        plt.plot(fpr, tpr, label=f'{model_name} (AUC = {auc:.2f})')\n",
        "\n",
        "    # Add plot details\n",
        "    plt.plot([0, 1], [0, 1], 'k--', label='Random Chance')\n",
        "    plt.title('ROC-AUC Curve Comparison', fontsize=16)\n",
        "    plt.xlabel('False Positive Rate (FPR)', fontsize=14)\n",
        "    plt.ylabel('True Positive Rate (TPR)', fontsize=14)\n",
        "    plt.legend(loc='lower right', fontsize=12)\n",
        "    plt.grid(alpha=0.3)\n",
        "    plt.tight_layout()\n",
        "    plt.show()\n",
        "\n",
        "# Initialize models\n",
        "models = [\n",
        "    (\"KNN\", KNeighborsClassifier(n_neighbors=5)),\n",
        "    (\"Decision Tree\", DecisionTreeClassifier(random_state=4))\n",
        "]\n",
        "\n",
        "# Plot ROC-AUC curves for all models\n",
        "plot_roc_auc(models)\n"
      ],
      "metadata": {
        "id": "mRRQ_zN6MMlX"
      },
      "execution_count": null,
      "outputs": []
    },
    {
      "cell_type": "code",
      "source": [
        "# Comparative Metrics Table\n",
        "metrics_table = pd.DataFrame({\n",
        "    \"Metric\": [\"Pearson R\", \"R2 Score\", \"MSE\", \"RMSE\", \"Accuracy\", \"Recall\", \"Precision\", \"F1 Score\"],\n",
        "    \"KNN\": [r_knn, r2_knn, mae_knn, rmse_knn, acc_knn, recall_knn, prec_knn, f1_knn],\n",
        "    \"Decision Tree\": [r_dt, r2_dt, mae_dt, rmse_dt, accuracy_dt, recall_dt, prec_dt, f1_dt]\n",
        "})\n",
        "\n",
        "print(metrics_table)\n"
      ],
      "metadata": {
        "id": "e0un4AVdfzZF"
      },
      "execution_count": null,
      "outputs": []
    },
    {
      "cell_type": "markdown",
      "source": [
        "NAIVE BAYES"
      ],
      "metadata": {
        "id": "PYMKr9KVdfQH"
      }
    },
    {
      "cell_type": "code",
      "source": [
        "from sklearn.naive_bayes import GaussianNB\n",
        "from math import sqrt\n",
        "# Initialize the Naive Bayes classifier\n",
        "nb_model = GaussianNB()\n",
        "nb_model.fit(X_train, y_train)\n",
        "\n",
        "# Predict and calculate probabilities\n",
        "y_pred_nb = nb_model.predict(X_test)\n",
        "y_prob_nb = nb_model.predict_proba(X_test)[:, 1]"
      ],
      "metadata": {
        "id": "tedjewQjdpC2"
      },
      "execution_count": null,
      "outputs": []
    },
    {
      "cell_type": "code",
      "source": [
        "# Confusion Matrix\n",
        "conf_matrix = confusion_matrix(y_test, y_pred_nb)\n",
        "plt.figure(figsize=(8, 6))\n",
        "sns.heatmap(conf_matrix, annot=True, fmt='d', cmap='Blues',\n",
        "            xticklabels=['Non-Diabetic', 'Diabetic'],\n",
        "            yticklabels=['Non-Diabetic', 'Diabetic'])\n",
        "plt.title('Confusion Matrix', fontsize=16)\n",
        "plt.xlabel('Predicted', fontsize=14)\n",
        "plt.ylabel('Actual', fontsize=14)\n",
        "plt.show()\n"
      ],
      "metadata": {
        "id": "rTFBQ_muexeD"
      },
      "execution_count": null,
      "outputs": []
    },
    {
      "cell_type": "code",
      "source": [
        "from sklearn.metrics import accuracy_score\n",
        "# Calculate evaluation metrics\n",
        "accuracy_nb= accuracy_score(y_test, y_pred_nb)\n",
        "prec_nb = precision_score(y_test, y_pred_nb)\n",
        "recall_nb = recall_score(y_test, y_pred_nb)\n",
        "f1_nb = f1_score(y_test, y_pred_nb)\n",
        "roc_auc_nb = roc_auc_score(y_test, y_prob_nb)\n",
        "\n",
        "# Print evaluation metrics\n",
        "print(f\"Accuracy: {accuracy_nb:.2f}\")\n",
        "print(f\"Precision: {prec_nb:.2f}\")\n",
        "print(f\"Recall: {recall_nb:.2f}\")\n",
        "print(f\"F1 Score: {f1_nb:.2f}\")\n",
        "print(f\"ROC-AUC: {roc_auc_nb:.2f}\")\n",
        "# Calculate metrics\n",
        "# 1. R (Pearson Coefficient)\n",
        "r_nb, _ = pearsonr(y_test, y_pred_nb)\n",
        "\n",
        "# 2. R² Score\n",
        "r2_nb = r2_score(y_test, y_pred_nb)\n",
        "\n",
        "# 3.-dt Root Mean Squared Error (RMSE)\n",
        "rmse_nb = np.sqrt(mean_squared_error(y_test, y_pred_nb))\n",
        "\n",
        "# 4. Mean Absolute Error (MAE)\n",
        "mae_nb = mean_absolute_error(y_test, y_pred_nb)\n",
        "\n",
        "# Print the metrics\n",
        "print(f\"R (Pearson Coefficient): {r_nb:.2f}\")\n",
        "print(f\"R² Score: {r2_nb:.2f}\")\n",
        "print(f\"Root Mean Squared Error (RMSE): {rmse_nb:.2f}\")\n",
        "print(f\"Mean Absolute Error (MAE): {mae_nb:.2f}\")\n",
        "\n",
        "# Visualization of Metrics\n",
        "metrics = ['R (Pearson)', 'R² Score-dt', 'RMSE', 'MAE']\n",
        "values = [r_nb, r2_nb, rmse_nb, mae_nb]\n",
        "\n",
        "plt.figure(figsize=(10, 6))\n",
        "sns.barplot(x=metrics, y=values, palette='flare')\n",
        "plt.title('Performance Metrics', fontsize=16)\n",
        "plt.ylabel('Score', fontsize=14)\n",
        "plt.xlabel('Metrics', fontsize=14)\n",
        "plt.xticks(rotation=45, ha='right', fontsize=12)\n",
        "plt.yticks(fontsize=12)\n",
        "for i, v in enumerate(values):\n",
        "    plt.text(i, v , f\"{v:.2f}\", ha='center', fontsize=12)\n",
        "plt.show()"
      ],
      "metadata": {
        "id": "lbPvNlaIee6S"
      },
      "execution_count": null,
      "outputs": []
    },
    {
      "cell_type": "code",
      "source": [
        "from sklearn.metrics import roc_curve, roc_auc_score\n",
        "\n",
        "# Function to plot ROC-AUC curves\n",
        "def plot_roc_auc(models):\n",
        "    plt.figure(figsize=(10, 8))\n",
        "    for model_name, model in models:\n",
        "        # Fit the model\n",
        "        model.fit(X_train, y_train)\n",
        "        y_prob = model.predict_proba(X_test)[:, 1]  # Probability scores\n",
        "\n",
        "        # Compute ROC curve and AUC\n",
        "        fpr, tpr, _ = roc_curve(y_test, y_prob)\n",
        "        auc = roc_auc_score(y_test, y_prob)\n",
        "\n",
        "        # Plot ROC curve\n",
        "        plt.plot(fpr, tpr, label=f'{model_name} (AUC = {auc:.2f})')\n",
        "\n",
        "    # Add plot details\n",
        "    plt.plot([0, 1], [0, 1], 'k--', label='Random Chance')\n",
        "    plt.title('ROC-AUC Curve Comparison', fontsize=16)\n",
        "    plt.xlabel('False Positive Rate (FPR)', fontsize=14)\n",
        "    plt.ylabel('True Positive Rate (TPR)', fontsize=14)\n",
        "    plt.legend(loc='lower right', fontsize=12)\n",
        "    plt.grid(alpha=0.3)\n",
        "    plt.tight_layout()\n",
        "    plt.show()\n",
        "\n",
        "# Initialize models\n",
        "models = [\n",
        "    (\"KNN\", KNeighborsClassifier(n_neighbors=5)),\n",
        "    (\"Decision Tree\", DecisionTreeClassifier(random_state=4)),\n",
        "    (\"Naive Bayes\", GaussianNB())\n",
        "]\n",
        "\n",
        "# Plot ROC-AUC curves for all models\n",
        "plot_roc_auc(models)\n"
      ],
      "metadata": {
        "id": "QHBl19AAei_x"
      },
      "execution_count": null,
      "outputs": []
    },
    {
      "cell_type": "code",
      "source": [
        "# Comparative Metrics Table\n",
        "metrics_table = pd.DataFrame({\n",
        "    \"Metric\": [\"Pearson R\", \"R2 Score\", \"MSE\", \"RMSE\", \"Accuracy\", \"Recall\", \"Precision\", \"F1 Score\"],\n",
        "    \"KNN\": [r_knn, r2_knn, mae_knn, rmse_knn, acc_knn, recall_knn, prec_knn, f1_knn],\n",
        "    \"Decision Tree\": [r_dt, r2_dt, mae_dt, rmse_dt, accuracy_dt, recall_dt, prec_dt, f1_dt],\n",
        "    \"Naive Bayes\": [r_nb, r2_nb, mae_nb, rmse_nb, accuracy_nb, recall_nb, prec_nb, f1_nb]\n",
        "})\n",
        "\n",
        "print(metrics_table)\n"
      ],
      "metadata": {
        "id": "EUXxeG8Tfths"
      },
      "execution_count": null,
      "outputs": []
    },
    {
      "cell_type": "markdown",
      "source": [
        "Random Forest\n"
      ],
      "metadata": {
        "id": "IIV-jIPwtjFS"
      }
    },
    {
      "cell_type": "code",
      "source": [
        "import pandas as pd\n",
        "import numpy as np\n",
        "from math import sqrt\n",
        "from sklearn.ensemble import RandomForestClassifier\n",
        "\n",
        "# Train the Random Forest Classifier\n",
        "rf_model = RandomForestClassifier(random_state=4, n_estimators=300)\n",
        "rf_model.fit(X_train, y_train)\n",
        "\n",
        "# Predictions\n",
        "y_pred_rf = rf_model.predict(X_test)\n",
        "y_prob_rf = rf_model.predict_proba(X_test)[:, 1]\n"
      ],
      "metadata": {
        "id": "kxPuEWfque7H"
      },
      "execution_count": null,
      "outputs": []
    },
    {
      "cell_type": "code",
      "source": [
        "from sklearn.metrics import accuracy_score\n",
        "# Calculate evaluation metrics\n",
        "accuracy_rf= accuracy_score(y_test, y_pred_rf)\n",
        "prec_rf = precision_score(y_test, y_pred_rf)\n",
        "recall_rf = recall_score(y_test, y_pred_rf)\n",
        "f1_rf = f1_score(y_test, y_pred_rf)\n",
        "roc_auc_rf = roc_auc_score(y_test, y_prob_rf)\n",
        "\n",
        "# Print evaluation metrics\n",
        "print(f\"Accuracy: {accuracy_rf:.2f}\")\n",
        "print(f\"Precision: {prec_rf:.2f}\")\n",
        "print(f\"Recall: {recall_rf:.2f}\")\n",
        "print(f\"F1 Score: {f1_rf:.2f}\")\n",
        "print(f\"ROC-AUC: {roc_auc_rf:.2f}\")\n",
        "# Calculate metrics\n",
        "# 1. R (Pearson Coefficient)\n",
        "r_rf, _ = pearsonr(y_test, y_pred_rf)\n",
        "\n",
        "# 2. R² Score\n",
        "r2_rf = r2_score(y_test, y_pred_rf)\n",
        "\n",
        "# 3.-dt Root Mean Squared Error (RMSE)\n",
        "rmse_rf = np.sqrt(mean_squared_error(y_test, y_pred_rf))\n",
        "\n",
        "# 4. Mean Absolute Error (MAE)\n",
        "mae_rf = mean_absolute_error(y_test, y_pred_rf)\n",
        "\n",
        "# Print the metrics\n",
        "print(f\"R (Pearson Coefficient): {r_rf:.2f}\")\n",
        "print(f\"R² Score: {r2_rf:.2f}\")\n",
        "print(f\"Root Mean Squared Error (RMSE): {rmse_rf:.2f}\")\n",
        "print(f\"Mean Absolute Error (MAE): {mae_rf:.2f}\")\n",
        "\n",
        "# Visualization of Metrics\n",
        "metrics = ['R (Pearson)', 'R² Score-dt', 'RMSE', 'MAE']\n",
        "values = [r_rf, r2_rf, rmse_rf, mae_rf]\n",
        "\n",
        "plt.figure(figsize=(10, 6))\n",
        "sns.barplot(x=metrics, y=values, palette='flare')\n",
        "plt.title('Performance Metrics', fontsize=16)\n",
        "plt.ylabel('Score', fontsize=14)\n",
        "plt.xlabel('Metrics', fontsize=14)\n",
        "plt.xticks(rotation=45, ha='right', fontsize=12)\n",
        "plt.yticks(fontsize=12)\n",
        "for i, v in enumerate(values):\n",
        "    plt.text(i, v , f\"{v:.2f}\", ha='center', fontsize=12)\n",
        "plt.show()"
      ],
      "metadata": {
        "id": "qeRJLLGGwZzM"
      },
      "execution_count": null,
      "outputs": []
    },
    {
      "cell_type": "code",
      "source": [
        "# Confusion Matrix\n",
        "conf_matrix = confusion_matrix(y_test, y_pred_rf)\n",
        "plt.figure(figsize=(8, 6))\n",
        "sns.heatmap(conf_matrix, annot=True, fmt='d', cmap='Blues',\n",
        "            xticklabels=['Non-Diabetic', 'Diabetic'],\n",
        "            yticklabels=['Non-Diabetic', 'Diabetic'])\n",
        "plt.title('Confusion Matrix', fontsize=16)\n",
        "plt.xlabel('Predicted', fontsize=14)\n",
        "plt.ylabel('Actual', fontsize=14)\n",
        "plt.show()"
      ],
      "metadata": {
        "id": "Oy-NfanftigC"
      },
      "execution_count": null,
      "outputs": []
    },
    {
      "cell_type": "code",
      "source": [
        "from sklearn.metrics import roc_curve, roc_auc_score\n",
        "\n",
        "# Function to plot ROC-AUC curves\n",
        "def plot_roc_auc(models):\n",
        "    plt.figure(figsize=(10, 8))\n",
        "    for model_name, model in models:\n",
        "        # Fit the model\n",
        "        model.fit(X_train, y_train)\n",
        "        y_prob = model.predict_proba(X_test)[:, 1]  # Probability scores\n",
        "\n",
        "        # Compute ROC curve and AUC\n",
        "        fpr, tpr, _ = roc_curve(y_test, y_prob)\n",
        "        auc = roc_auc_score(y_test, y_prob)\n",
        "\n",
        "        # Plot ROC curve\n",
        "        plt.plot(fpr, tpr, label=f'{model_name} (AUC = {auc:.2f})')\n",
        "\n",
        "    # Add plot details\n",
        "    plt.plot([0, 1], [0, 1], 'k--', label='Random Chance')\n",
        "    plt.title('ROC-AUC Curve Comparison', fontsize=16)\n",
        "    plt.xlabel('False Positive Rate (FPR)', fontsize=14)\n",
        "    plt.ylabel('True Positive Rate (TPR)', fontsize=14)\n",
        "    plt.legend(loc='lower right', fontsize=12)\n",
        "    plt.grid(alpha=0.3)\n",
        "    plt.tight_layout()\n",
        "    plt.show()\n",
        "\n",
        "# Initialize models\n",
        "models = [\n",
        "    (\"KNN\", KNeighborsClassifier(n_neighbors=5)),\n",
        "    (\"Decision Tree\", DecisionTreeClassifier(random_state=4)),\n",
        "    (\"Naive Bayes\", GaussianNB()),\n",
        "    (\"Random Forest\", RandomForestClassifier(random_state=4, n_estimators=300))\n",
        "]\n",
        "\n",
        "# Plot ROC-AUC curves for all models\n",
        "plot_roc_auc(models)\n"
      ],
      "metadata": {
        "id": "1LocMNTswWK1"
      },
      "execution_count": null,
      "outputs": []
    },
    {
      "cell_type": "code",
      "source": [
        "# Comparative Metrics Table\n",
        "metrics_table = pd.DataFrame({\n",
        "    \"Metric\": [\"Pearson R\", \"R2 Score\", \"MSE\", \"RMSE\", \"Accuracy\", \"Recall\", \"Precision\", \"F1 Score\"],\n",
        "    \"KNN\": [r_knn, r2_knn, mae_knn, rmse_knn, acc_knn, recall_knn, prec_knn, f1_knn],\n",
        "    \"Decision Tree\": [r_dt, r2_dt, mae_dt, rmse_dt, accuracy_dt, recall_dt, prec_dt, f1_dt],\n",
        "    \"Naive Bayes\": [r_nb, r2_nb, mae_nb, rmse_nb, accuracy_nb, recall_nb, prec_nb, f1_nb],\n",
        "    \"Random Forest\": [r_rf, r2_rf, mae_rf, rmse_rf, accuracy_rf, recall_rf, prec_rf, f1_rf]\n",
        "})\n",
        "\n",
        "print(metrics_table)\n"
      ],
      "metadata": {
        "id": "tBSB5ebAxWUt"
      },
      "execution_count": null,
      "outputs": []
    },
    {
      "cell_type": "markdown",
      "source": [
        "XG Boost"
      ],
      "metadata": {
        "id": "X0ZUv4kOxQIU"
      }
    },
    {
      "cell_type": "code",
      "source": [
        "from xgboost import XGBClassifier\n",
        "\n",
        "# Train the XGBoost Classifier\n",
        "xgb_model = XGBClassifier(random_state=42, eval_metric='logloss')\n",
        "xgb_model.fit(X_train, y_train)\n",
        "\n",
        "# Make predictions\n",
        "y_pred_xg = xgb_model.predict(X_test)\n",
        "y_prob_xg = xgb_model.predict_proba(X_test)[:, 1]  # Probabilities for ROC-AUC\n"
      ],
      "metadata": {
        "id": "euwTdTubyDxy"
      },
      "execution_count": null,
      "outputs": []
    },
    {
      "cell_type": "code",
      "source": [
        "# Confusion Matrix\n",
        "conf_matrix = confusion_matrix(y_test, y_pred_xg)\n",
        "plt.figure(figsize=(8, 6))\n",
        "sns.heatmap(conf_matrix, annot=True, fmt='d', cmap='inferno',\n",
        "            xticklabels=['Non-Diabetic', 'Diabetic'],\n",
        "            yticklabels=['Non-Diabetic', 'Diabetic'])\n",
        "plt.title('Confusion Matrix', fontsize=16)\n",
        "plt.xlabel('Predicted', fontsize=14)\n",
        "plt.ylabel('Actual', fontsize=14)\n",
        "plt.show()"
      ],
      "metadata": {
        "id": "ixg2oZocy4Ac"
      },
      "execution_count": null,
      "outputs": []
    },
    {
      "cell_type": "code",
      "source": [
        "from sklearn.metrics import accuracy_score\n",
        "# Calculate evaluation metrics\n",
        "accuracy_xg= accuracy_score(y_test, y_pred_xg)\n",
        "prec_xg = precision_score(y_test, y_pred_xg)\n",
        "recall_xg = recall_score(y_test, y_pred_xg)\n",
        "f1_xg = f1_score(y_test, y_pred_xg)\n",
        "roc_auc_xg = roc_auc_score(y_test, y_prob_xg)\n",
        "\n",
        "# Print evaluation metrics\n",
        "print(f\"Accuracy: {accuracy_xg:.2f}\")\n",
        "print(f\"Precision: {prec_xg:.2f}\")\n",
        "print(f\"Recall: {recall_xg:.2f}\")\n",
        "print(f\"F1 Score: {f1_xg:.2f}\")\n",
        "print(f\"ROC-AUC: {roc_auc_xg:.2f}\")\n",
        "# Calculate metrics\n",
        "# 1. R (Pearson Coefficient)\n",
        "r_xg, _ = pearsonr(y_test, y_pred_xg)\n",
        "\n",
        "# 2. R² Score\n",
        "r2_xg = r2_score(y_test, y_pred_xg)\n",
        "\n",
        "# 3.-dt Root Mean Squared Error (RMSE)\n",
        "rmse_xg = np.sqrt(mean_squared_error(y_test, y_pred_xg))\n",
        "\n",
        "# 4. Mean Absolute Error (MAE)\n",
        "mae_xg = mean_absolute_error(y_test, y_pred_xg)\n",
        "\n",
        "# Print the metrics\n",
        "print(f\"R (Pearson Coefficient): {r_xg:.2f}\")\n",
        "print(f\"R² Score: {r2_xg:.2f}\")\n",
        "print(f\"Root Mean Squared Error (RMSE): {rmse_xg:.2f}\")\n",
        "print(f\"Mean Absolute Error (MAE): {mae_xg:.2f}\")\n",
        "\n",
        "# Visualization of Metrics\n",
        "metrics = ['R (Pearson)', 'R² Score-dt', 'RMSE', 'MAE']\n",
        "values = [r_xg, r2_xg, rmse_xg, mae_xg]\n",
        "\n",
        "plt.figure(figsize=(10, 6))\n",
        "sns.barplot(x=metrics, y=values, palette='flare')\n",
        "plt.title('Performance Metrics', fontsize=16)\n",
        "plt.ylabel('Score', fontsize=14)\n",
        "plt.xlabel('Metrics', fontsize=14)\n",
        "plt.xticks(rotation=45, ha='right', fontsize=12)\n",
        "plt.yticks(fontsize=12)\n",
        "for i, v in enumerate(values):\n",
        "    plt.text(i, v , f\"{v:.2f}\", ha='center', fontsize=12)\n",
        "plt.show()"
      ],
      "metadata": {
        "id": "m26RD-e6yS1U"
      },
      "execution_count": null,
      "outputs": []
    },
    {
      "cell_type": "code",
      "source": [
        "from sklearn.metrics import roc_curve, roc_auc_score\n",
        "\n",
        "# Function to plot ROC-AUC curves\n",
        "def plot_roc_auc(models):\n",
        "    plt.figure(figsize=(10, 8))\n",
        "    for model_name, model in models:\n",
        "        # Fit the model\n",
        "        model.fit(X_train, y_train)\n",
        "        y_prob = model.predict_proba(X_test)[:, 1]  # Probability scores\n",
        "\n",
        "        # Compute ROC curve and AUC\n",
        "        fpr, tpr, _ = roc_curve(y_test, y_prob)\n",
        "        auc = roc_auc_score(y_test, y_prob)\n",
        "\n",
        "        # Plot ROC curve\n",
        "        plt.plot(fpr, tpr, label=f'{model_name} (AUC = {auc:.2f})')\n",
        "\n",
        "    # Add plot details\n",
        "    plt.plot([0, 1], [0, 1], 'k--', label='Random Chance')\n",
        "    plt.title('ROC-AUC Curve Comparison', fontsize=16)\n",
        "    plt.xlabel('False Positive Rate (FPR)', fontsize=14)\n",
        "    plt.ylabel('True Positive Rate (TPR)', fontsize=14)\n",
        "    plt.legend(loc='lower right', fontsize=12)\n",
        "    plt.grid(alpha=0.3)\n",
        "    plt.tight_layout()\n",
        "    plt.show()\n",
        "\n",
        "# Initialize models\n",
        "models = [\n",
        "    (\"KNN\", KNeighborsClassifier(n_neighbors=5)),\n",
        "    (\"Decision Tree\", DecisionTreeClassifier(random_state=4)),\n",
        "    (\"Naive Bayes\", GaussianNB()),\n",
        "    (\"Random Forest\", RandomForestClassifier(random_state=4, n_estimators=300)),\n",
        "    (\"XGBoost\", XGBClassifier(random_state=42, eval_metric='logloss'))\n",
        "]\n",
        "\n",
        "# Plot ROC-AUC curves for all models\n",
        "plot_roc_auc(models)\n"
      ],
      "metadata": {
        "id": "3lvkugcUzYa3"
      },
      "execution_count": null,
      "outputs": []
    },
    {
      "cell_type": "code",
      "source": [
        "# Comparative Metrics Table\n",
        "metrics_table = pd.DataFrame({\n",
        "    \"Metric\": [\"Pearson R\", \"R2 Score\", \"MSE\", \"RMSE\", \"Accuracy\", \"Recall\", \"Precision\", \"F1 Score\"],\n",
        "    \"KNN\": [r_knn, r2_knn, mae_knn, rmse_knn, acc_knn, recall_knn, prec_knn, f1_knn],\n",
        "    \"Decision Tree\": [r_dt, r2_dt, mae_dt, rmse_dt, accuracy_dt, recall_dt, prec_dt, f1_dt],\n",
        "    \"Naive Bayes\": [r_nb, r2_nb, mae_nb, rmse_nb, accuracy_nb, recall_nb, prec_nb, f1_nb],\n",
        "    \"Random Forest\": [r_rf, r2_rf, mae_rf, rmse_rf, accuracy_rf, recall_rf, prec_rf, f1_rf],\n",
        "    \"XGBoost\": [r_xg, r2_xg, mae_xg, rmse_xg, accuracy_xg, recall_xg, prec_xg, f1_xg]\n",
        "})\n",
        "\n",
        "print(metrics_table)\n"
      ],
      "metadata": {
        "id": "dwoKJ9gRx7K8"
      },
      "execution_count": null,
      "outputs": []
    },
    {
      "cell_type": "markdown",
      "source": [
        "RIDGE CLASSIFIER"
      ],
      "metadata": {
        "id": "BJBYNte00NTx"
      }
    },
    {
      "cell_type": "code",
      "source": [
        "from sklearn.linear_model import RidgeClassifier\n",
        "\n",
        "# Initialize Ridge Classifier\n",
        "ridge_model = RidgeClassifier()\n",
        "\n",
        "# Train the model\n",
        "ridge_model.fit(X_train, y_train)\n",
        "\n",
        "# Make predictions\n",
        "y_pred_rc = ridge_model.predict(X_test)\n",
        "\n",
        "# RidgeClassifier does not have predict_proba,\n",
        "# so we use decision_function to get a score\n",
        "# and then scale it to a probability-like value using sigmoid\n",
        "from scipy.special import expit\n",
        "y_prob_rc = expit(ridge_model.decision_function(X_test))"
      ],
      "metadata": {
        "id": "pKTSgWc-0t8G"
      },
      "execution_count": null,
      "outputs": []
    },
    {
      "cell_type": "code",
      "source": [
        "# Evaluation metrics\n",
        "accuracy_rc = accuracy_score(y_test, y_pred_rc)\n",
        "prec_rc = precision_score(y_test, y_pred_rc)\n",
        "recall_rc = recall_score(y_test, y_pred_rc)\n",
        "f1_rc = f1_score(y_test, y_pred_rc)\n",
        "mse_rc = mean_squared_error(y_test, y_pred_rc)\n",
        "rmse_rc = sqrt(mse_rc)\n",
        "r2_rc = r2_score(y_test, y_pred_rc)\n",
        "r_rc = np.corrcoef(y_test, y_pred_rc)[0, 1]\n",
        "\n",
        "# Print evaluation metrics\n",
        "print(f\"R (Pearson Coefficient): {r_rc:.2f}\")\n",
        "print(f\"R2 Score: {r2_rc:.2f}\")\n",
        "print(f\"Mean Squared Error: {mse_rc:.2f}\")\n",
        "print(f\"Root Mean Squared Error: {rmse_rc:.2f}\")\n",
        "print(f\"Accuracy: {accuracy_rc:.2f}\")\n",
        "print(f\"Precision: {prec_rc:.2f}\")\n",
        "print(f\"Recall: {recall_rc:.2f}\")\n",
        "print(f\"F1 Score: {f1_rc:.2f}\")\n"
      ],
      "metadata": {
        "id": "L5hoC6051JuP"
      },
      "execution_count": null,
      "outputs": []
    },
    {
      "cell_type": "code",
      "source": [
        "# Visualization of Metrics\n",
        "metrics = ['R (Pearson)', 'R² Score-dt', 'RMSE', 'MAE']\n",
        "values = [r_rc, r2_rc, rmse_rc, mse_rc]\n",
        "\n",
        "plt.figure(figsize=(10, 6))\n",
        "sns.barplot(x=metrics, y=values, palette='viridis')\n",
        "plt.title('Performance Metrics', fontsize=16)\n",
        "plt.ylabel('Score', fontsize=14)\n",
        "plt.xlabel('Metrics', fontsize=14)\n",
        "plt.xticks(rotation=45, ha='right', fontsize=12)\n",
        "plt.yticks(fontsize=12)\n",
        "for i, v in enumerate(values):\n",
        "    plt.text(i, v , f\"{v:.2f}\", ha='center', fontsize=12)\n",
        "plt.show()"
      ],
      "metadata": {
        "id": "-i2nUdWU1oOE"
      },
      "execution_count": null,
      "outputs": []
    },
    {
      "cell_type": "code",
      "source": [
        "# Confusion Matrix\n",
        "conf_matrix = confusion_matrix(y_test, y_pred_rc)\n",
        "\n",
        "# Visualize Confusion Matrix\n",
        "plt.figure(figsize=(8, 6))\n",
        "sns.heatmap(conf_matrix, annot=True, fmt='d', cmap='viridis',\n",
        "            xticklabels=['Non-Diabetic', 'Diabetic'],\n",
        "            yticklabels=['Non-Diabetic', 'Diabetic'])\n",
        "plt.title('Confusion Matrix - Ridge Classifier', fontsize=16)\n",
        "plt.xlabel('Predicted', fontsize=14)\n",
        "plt.ylabel('Actual', fontsize=14)\n",
        "plt.show()"
      ],
      "metadata": {
        "id": "XGbarTN81PjJ"
      },
      "execution_count": null,
      "outputs": []
    },
    {
      "cell_type": "code",
      "source": [
        "from sklearn.metrics import roc_curve, roc_auc_score\n",
        "\n",
        "# Function to plot ROC-AUC curves\n",
        "def plot_roc_auc(models):\n",
        "    plt.figure(figsize=(10, 8))\n",
        "    for model_name, model in models:\n",
        "        # Fit the model\n",
        "        model.fit(X_train, y_train)\n",
        "       # Use decision_function for RidgeClassifier and apply sigmoid\n",
        "        if model_name == \"Ridge Classifier\":\n",
        "            y_prob = expit(model.decision_function(X_test))\n",
        "        else:\n",
        "            y_prob = model.predict_proba(X_test)[:, 1]  # Probability scores for other models\n",
        "\n",
        "        # Compute ROC curve and AUC\n",
        "        fpr, tpr, _ = roc_curve(y_test, y_prob)\n",
        "        auc = roc_auc_score(y_test, y_prob)\n",
        "\n",
        "        # Plot ROC curve\n",
        "        plt.plot(fpr, tpr, label=f'{model_name} (AUC = {auc:.2f})')\n",
        "\n",
        "    # Add plot details\n",
        "    plt.plot([0, 1], [0, 1], 'k--', label='Random Chance')\n",
        "    plt.title('ROC-AUC Curve Comparison', fontsize=16)\n",
        "    plt.xlabel('False Positive Rate (FPR)', fontsize=14)\n",
        "    plt.ylabel('True Positive Rate (TPR)', fontsize=14)\n",
        "    plt.legend(loc='lower right', fontsize=12)\n",
        "    plt.grid(alpha=0.3)\n",
        "    plt.tight_layout()\n",
        "    plt.show()\n",
        "\n",
        "# Initialize models\n",
        "models = [\n",
        "    (\"KNN\", KNeighborsClassifier(n_neighbors=5)),\n",
        "    (\"Decision Tree\", DecisionTreeClassifier(random_state=4)),\n",
        "    (\"Naive Bayes\", GaussianNB()),\n",
        "    (\"Random Forest\", RandomForestClassifier(random_state=4, n_estimators=300)),\n",
        "    (\"XGBoost\", XGBClassifier(random_state=42, eval_metric='logloss')),\n",
        "    (\"Ridge Classifier\", RidgeClassifier())\n",
        "]\n",
        "\n",
        "# Plot ROC-AUC curves for all models\n",
        "plot_roc_auc(models)\n"
      ],
      "metadata": {
        "id": "te88zuoV1fYu"
      },
      "execution_count": null,
      "outputs": []
    },
    {
      "cell_type": "code",
      "source": [
        "# Comparative Metrics Table\n",
        "metrics_table = pd.DataFrame({\n",
        "    \"Metric\": [\"Pearson R\", \"R2 Score\", \"MSE\", \"RMSE\", \"Accuracy\", \"Recall\", \"Precision\", \"F1 Score\"],\n",
        "    \"KNN\": [r_knn, r2_knn, mae_knn, rmse_knn, acc_knn, recall_knn, prec_knn, f1_knn],\n",
        "    \"Decision Tree\": [r_dt, r2_dt, mae_dt, rmse_dt, accuracy_dt, recall_dt, prec_dt, f1_dt],\n",
        "    \"Naive Bayes\": [r_nb, r2_nb, mae_nb, rmse_nb, accuracy_nb, recall_nb, prec_nb, f1_nb],\n",
        "    \"Random Forest\": [r_rf, r2_rf, mae_rf, rmse_rf, accuracy_rf, recall_rf, prec_rf, f1_rf],\n",
        "    \"XGBoost\": [r_xg, r2_xg, mae_xg, rmse_xg, accuracy_xg, recall_xg, prec_xg, f1_xg],\n",
        "    \"Ridge Classifier\": [r_rc, r2_rc, mse_rc, rmse_rc, accuracy_rc, recall_rc, prec_rc, f1_rc]\n",
        "})\n",
        "\n",
        "print(metrics_table)\n"
      ],
      "metadata": {
        "id": "9y_YiDP02s5-"
      },
      "execution_count": null,
      "outputs": []
    },
    {
      "cell_type": "markdown",
      "source": [
        "CATBoost"
      ],
      "metadata": {
        "id": "MLmZe-od2_jw"
      }
    },
    {
      "cell_type": "code",
      "source": [
        "import catboost as cb\n",
        "from catboost import CatBoostClassifier\n",
        "\n",
        "# Train CatBoost Classifier\n",
        "catboost_model = CatBoostClassifier(iterations=1000, learning_rate=0.05, depth=6, random_seed=42, cat_features=[], verbose=200)\n",
        "catboost_model.fit(X_train, y_train)\n",
        "\n",
        "# Predictions\n",
        "y_pred_cat = catboost_model.predict(X_test)\n",
        "y_prob_cat = catboost_model.predict_proba(X_test)[:, 1]  # Probability scores for ROC-AUC\n"
      ],
      "metadata": {
        "id": "ajZzUOUL49xY"
      },
      "execution_count": null,
      "outputs": []
    },
    {
      "cell_type": "code",
      "source": [
        "# Evaluation Metrics\n",
        "accuracy_cat= accuracy_score(y_test, y_pred_cat)\n",
        "precision_cat = precision_score(y_test, y_pred_cat)\n",
        "recall_cat = recall_score(y_test, y_pred_cat)\n",
        "f1_cat = f1_score(y_test, y_pred_cat)\n",
        "roc_auc_cat = roc_auc_score(y_test, y_prob_cat)\n",
        "r2_cat = r2_score(y_test, y_pred_cat)\n",
        "rmse_cat = sqrt(mean_squared_error(y_test, y_pred_cat))\n",
        "mse_cat = mean_squared_error(y_test, y_pred_cat)\n",
        "\n",
        "# Pearson's correlation (R)\n",
        "r_cat = np.corrcoef(y_test, y_pred_cat)[0, 1]\n",
        "\n",
        "# Print the evaluation metrics\n",
        "print(f\"R (Pearson's correlation): {r_cat:.2f}\")\n",
        "print(f\"R²: {r2_cat:.2f}\")\n",
        "print(f\"RMSE: {rmse_cat:.2f}\")\n",
        "print(f\"MSE: {mse_cat:.2f}\")\n",
        "print(f\"Accuracy: {accuracy_cat:.2f}\")\n",
        "print(f\"Precision: {precision_cat:.2f}\")\n",
        "print(f\"Recall: {recall_cat:.2f}\")\n",
        "print(f\"F1 Score: {f1_cat:.2f}\")\n",
        "print(f\"ROC-AUC: {roc_auc_cat:.2f}\")\n"
      ],
      "metadata": {
        "id": "ibyGC_Mq5hc0"
      },
      "execution_count": null,
      "outputs": []
    },
    {
      "cell_type": "code",
      "source": [
        "# Confusion Matrix\n",
        "conf_matrix = confusion_matrix(y_test, y_pred_cat)\n",
        "\n",
        "# Visualize Confusion Matrix\n",
        "plt.figure(figsize=(8, 6))\n",
        "sns.heatmap(conf_matrix, annot=True, fmt='d', cmap='viridis', xticklabels=['Non-Diabetic', 'Diabetic'], yticklabels=['Non-Diabetic', 'Diabetic'])\n",
        "plt.title('Confusion Matrix - CatBoost', fontsize=16)\n",
        "plt.xlabel('Predicted', fontsize=14)\n",
        "plt.ylabel('Actual', fontsize=14)\n",
        "plt.show()\n"
      ],
      "metadata": {
        "id": "l_biq-yS5lC1"
      },
      "execution_count": null,
      "outputs": []
    },
    {
      "cell_type": "code",
      "source": [
        "from sklearn.metrics import roc_curve, roc_auc_score\n",
        "\n",
        "# Function to plot ROC-AUC curves\n",
        "def plot_roc_auc(models):\n",
        "    plt.figure(figsize=(10, 8))\n",
        "    for model_name, model in models:\n",
        "        # Fit the model\n",
        "        model.fit(X_train, y_train)\n",
        "       # Use decision_function for RidgeClassifier and apply sigmoid\n",
        "        if model_name == \"Ridge Classifier\":\n",
        "            y_prob = expit(model.decision_function(X_test))\n",
        "        else:\n",
        "            y_prob = model.predict_proba(X_test)[:, 1]  # Probability scores for other models\n",
        "\n",
        "        # Compute ROC curve and AUC\n",
        "        fpr, tpr, _ = roc_curve(y_test, y_prob)\n",
        "        auc = roc_auc_score(y_test, y_prob)\n",
        "\n",
        "        # Plot ROC curve\n",
        "        plt.plot(fpr, tpr, label=f'{model_name} (AUC = {auc:.2f})')\n",
        "\n",
        "    # Add plot details\n",
        "    plt.plot([0, 1], [0, 1], 'k--', label='Random Chance')\n",
        "    plt.title('ROC-AUC Curve Comparison', fontsize=16)\n",
        "    plt.xlabel('False Positive Rate (FPR)', fontsize=14)\n",
        "    plt.ylabel('True Positive Rate (TPR)', fontsize=14)\n",
        "    plt.legend(loc='lower right', fontsize=12)\n",
        "    plt.grid(alpha=0.3)\n",
        "    plt.tight_layout()\n",
        "    plt.show()\n",
        "\n",
        "# Initialize models\n",
        "models = [\n",
        "    (\"KNN\", KNeighborsClassifier(n_neighbors=5)),\n",
        "    (\"Decision Tree\", DecisionTreeClassifier(random_state=4)),\n",
        "    (\"Naive Bayes\", GaussianNB()),\n",
        "    (\"Random Forest\", RandomForestClassifier(random_state=4, n_estimators=300)),\n",
        "    (\"XGBoost\", XGBClassifier(random_state=42, eval_metric='logloss')),\n",
        "    (\"Ridge Classifier\", RidgeClassifier()),\n",
        "    (\"CatBoost\", CatBoostClassifier(iterations=1000, learning_rate=0.05, depth=6, random_seed=42, cat_features=[], verbose=200))\n",
        "]\n",
        "\n",
        "# Plot ROC-AUC curves for all models\n",
        "plot_roc_auc(models)\n"
      ],
      "metadata": {
        "id": "50JLorwS6Cjq"
      },
      "execution_count": null,
      "outputs": []
    },
    {
      "cell_type": "code",
      "source": [
        "# Comparative Metrics Table\n",
        "metrics_table = pd.DataFrame({\n",
        "    \"Metric\": [\"Pearson R\", \"R2 Score\", \"MSE\", \"RMSE\", \"Accuracy\", \"Recall\", \"Precision\", \"F1 Score\"],\n",
        "    \"KNN\": [r_knn, r2_knn, mae_knn, rmse_knn, acc_knn, recall_knn, prec_knn, f1_knn],\n",
        "    \"Decision Tree\": [r_dt, r2_dt, mae_dt, rmse_dt, accuracy_dt, recall_dt, prec_dt, f1_dt],\n",
        "    \"Naive Bayes\": [r_nb, r2_nb, mae_nb, rmse_nb, accuracy_nb, recall_nb, prec_nb, f1_nb],\n",
        "    \"Random Forest\": [r_rf, r2_rf, mae_rf, rmse_rf, accuracy_rf, recall_rf, prec_rf, f1_rf],\n",
        "    \"XGBoost\": [r_xg, r2_xg, mae_xg, rmse_xg, accuracy_xg, recall_xg, prec_xg, f1_xg],\n",
        "    \"Ridge Classifier\": [r_rc, r2_rc, mse_rc, rmse_rc, accuracy_rc, recall_rc, prec_rc, f1_rc],\n",
        "    \"CatBoost\": [r_cat, r2_cat, mse_cat, rmse_cat, accuracy_cat, recall_cat, precision_cat, f1_cat]\n",
        "})\n",
        "\n",
        "print(metrics_table)\n"
      ],
      "metadata": {
        "id": "831p9mgs6LLm"
      },
      "execution_count": null,
      "outputs": []
    },
    {
      "cell_type": "code",
      "source": [
        "import pickle\n",
        "\n",
        "# Save the model to a file\n",
        "with open('catboost_model.pkl', 'wb') as file:\n",
        "    pickle.dump(catboost_model, file)\n",
        "\n",
        "print(\"CatBoost model saved as 'catboost_model.pkl'\")"
      ],
      "metadata": {
        "id": "PfKZ_7HSkhbz"
      },
      "execution_count": null,
      "outputs": []
    },
    {
      "cell_type": "code",
      "source": [
        "# loading the saved model\n",
        "loaded_model = pickle.load(open('diabetes_model.sav', 'rb'))"
      ],
      "metadata": {
        "id": "ZFFGxIPale0f"
      },
      "execution_count": null,
      "outputs": []
    },
    {
      "cell_type": "markdown",
      "source": [
        "SVM"
      ],
      "metadata": {
        "id": "hdON6PnbPo3g"
      }
    },
    {
      "cell_type": "code",
      "source": [
        "from sklearn.svm import SVC\n",
        "# Train SVM model\n",
        "svm_model = SVC(probability=True, kernel='linear', random_state=3)\n",
        "svm_model.fit(X_train, y_train)\n",
        "\n",
        "# Predictions and probabilities\n",
        "y_pred_svm = svm_model.predict(X_test)\n",
        "y_prob_svm = svm_model.predict_proba(X_test)[:, 1]"
      ],
      "metadata": {
        "id": "ZDJ0EGc2PqMW"
      },
      "execution_count": null,
      "outputs": []
    },
    {
      "cell_type": "code",
      "source": [
        "# Confusion Matrix\n",
        "conf_matrix = confusion_matrix(y_test, y_pred_svm)\n",
        "\n",
        "# Visualize Confusion Matrix\n",
        "plt.figure(figsize=(8, 6))\n",
        "sns.heatmap(conf_matrix, annot=True, fmt='d', cmap='Blues',\n",
        "            xticklabels=['Non-Diabetic', 'Diabetic'],\n",
        "            yticklabels=['Non-Diabetic', 'Diabetic'])\n",
        "plt.title('Confusion Matrix', fontsize=16)\n",
        "plt.xlabel('Predicted', fontsize=14)\n",
        "plt.ylabel('Actual', fontsize=14)\n",
        "plt.show()\n"
      ],
      "metadata": {
        "id": "PvLFpuxnQick"
      },
      "execution_count": null,
      "outputs": []
    },
    {
      "cell_type": "code",
      "source": [
        "\n",
        "# Define Pearson correlation function\n",
        "def pearson_coeff(y_test, y_pred):\n",
        "    return np.corrcoef(y_test, y_pred_svm)[0, 1]\n",
        "\n",
        "# Root Mean Squared Error\n",
        "def root_mean_squared_error(y_test, y_pred):\n",
        "    return sqrt(mean_squared_error(y_test, y_pred_svm))\n",
        "\n",
        "# Function to plot ROC-AUC curves for models\n",
        "def plot_roc_auc(models, X_test, y_test):\n",
        "    plt.figure(figsize=(10, 8))\n",
        "    for model_name, model in models:\n",
        "        y_prob = model.decision_function(X_test) if hasattr(model, \"decision_function\") else model.predict_proba(X_test)[:, 1]\n",
        "        fpr, tpr, _ = roc_curve(y_test, y_prob_svm)\n",
        "        auc = roc_auc_score(y_test, y_prob_svm)\n",
        "        plt.plot(fpr, tpr, label=f'{model_name} (AUC = {auc:.2f})')\n",
        "    plt.plot([0, 1], [0, 1], 'k--', label='Random Chance')\n",
        "    plt.title('ROC-AUC Curve Comparison', fontsize=16)\n",
        "    plt.xlabel('False Positive Rate (FPR)', fontsize=14)\n",
        "    plt.ylabel('True Positive Rate (TPR)', fontsize=14)\n",
        "    plt.legend(loc='lower right', fontsize=12)\n",
        "    plt.grid(alpha=0.3)\n",
        "    plt.tight_layout()\n",
        "    plt.show()\n",
        "plt.show()"
      ],
      "metadata": {
        "id": "HnhwaqT5QgDF"
      },
      "execution_count": null,
      "outputs": []
    },
    {
      "cell_type": "code",
      "source": [
        "from sklearn.metrics import roc_curve, roc_auc_score\n",
        "\n",
        "# Function to plot ROC-AUC curves\n",
        "def plot_roc_auc(models):\n",
        "    plt.figure(figsize=(10, 8))\n",
        "    for model_name, model in models:\n",
        "        # Fit the model\n",
        "        model.fit(X_train, y_train)\n",
        "       # Use decision_function for RidgeClassifier and apply sigmoid\n",
        "        if model_name == \"Ridge Classifier\":\n",
        "            y_prob = expit(model.decision_function(X_test))\n",
        "        else:\n",
        "            y_prob = model.predict_proba(X_test)[:, 1]  # Probability scores for other models\n",
        "\n",
        "        # Compute ROC curve and AUC\n",
        "        fpr, tpr, _ = roc_curve(y_test, y_prob)\n",
        "        auc = roc_auc_score(y_test, y_prob)\n",
        "\n",
        "        # Plot ROC curve\n",
        "        plt.plot(fpr, tpr, label=f'{model_name} (AUC = {auc:.2f})')\n",
        "\n",
        "    # Add plot details\n",
        "    plt.plot([0, 1], [0, 1], 'k--', label='Random Chance')\n",
        "    plt.title('ROC-AUC Curve Comparison', fontsize=16)\n",
        "    plt.xlabel('False Positive Rate (FPR)', fontsize=14)\n",
        "    plt.ylabel('True Positive Rate (TPR)', fontsize=14)\n",
        "    plt.legend(loc='lower right', fontsize=12)\n",
        "    plt.grid(alpha=0.3)\n",
        "    plt.tight_layout()\n",
        "    plt.show()\n",
        "\n",
        "# Initialize models\n",
        "models = [\n",
        "    (\"KNN\", KNeighborsClassifier(n_neighbors=5)),\n",
        "    (\"Decision Tree\", DecisionTreeClassifier(random_state=4)),\n",
        "    (\"Naive Bayes\", GaussianNB()),\n",
        "    (\"Random Forest\", RandomForestClassifier(random_state=4, n_estimators=300)),\n",
        "    (\"XGBoost\", XGBClassifier(random_state=42, eval_metric='logloss')),\n",
        "    (\"Ridge Classifier\", RidgeClassifier()),\n",
        "    (\"CatBoost\", CatBoostClassifier(iterations=1000, learning_rate=0.05, depth=6, random_seed=42, cat_features=[], verbose=200)),\n",
        "    (\"SVM\", SVC(probability=True, kernel='linear', random_state=3))\n",
        "]\n",
        "\n",
        "# Plot ROC-AUC curves for all models\n",
        "plot_roc_auc(models)\n"
      ],
      "metadata": {
        "id": "BBq3Jz2ORGHR"
      },
      "execution_count": null,
      "outputs": []
    },
    {
      "cell_type": "code",
      "source": [
        "# Evaluation Metrics\n",
        "accuracy_svm= accuracy_score(y_test, y_pred_svm)\n",
        "precision_svm = precision_score(y_test, y_pred_svm)\n",
        "recall_svm = recall_score(y_test, y_pred_svm)\n",
        "f1_svm = f1_score(y_test, y_pred_svm)\n",
        "roc_auc_svm = roc_auc_score(y_test, y_prob_svm)\n",
        "r2_svm = r2_score(y_test, y_pred_svm)\n",
        "rmse_svm = sqrt(mean_squared_error(y_test, y_pred_svm))\n",
        "mse_svm = mean_squared_error(y_test, y_pred_svm)\n",
        "\n",
        "# Pearson's correlation (R)\n",
        "r_svm = np.corrcoef(y_test, y_pred_svm)[0, 1]\n",
        "\n",
        "# Print the evaluation metrics\n",
        "print(f\"R (Pearson's correlation): {r_svm:.2f}\")\n",
        "print(f\"R²: {r2_svm:.2f}\")\n",
        "print(f\"RMSE: {rmse_svm:.2f}\")\n",
        "print(f\"MSE: {mse_svm:.2f}\")\n",
        "print(f\"Accuracy: {accuracy_svm:.2f}\")\n",
        "print(f\"Precision: {precision_svm:.2f}\")\n",
        "print(f\"Recall: {recall_svm:.2f}\")\n",
        "print(f\"F1 Score: {f1_svm:.2f}\")\n",
        "print(f\"ROC-AUC: {roc_auc_svm:.2f}\")\n"
      ],
      "metadata": {
        "id": "WuVaPwxV4Mg1"
      },
      "execution_count": null,
      "outputs": []
    },
    {
      "cell_type": "code",
      "source": [
        "# Comparative table of metrics\n",
        "def comparative_table(metrics):\n",
        "    df = pd.DataFrame(metrics)\n",
        "    display(df)\n",
        "    return df\n",
        "\n",
        "\n",
        "# Evaluation metrics\n",
        "metrics = {\n",
        "    \"Model\": [\"SVM\"],\n",
        "    \"Pearson (R)\": [pearson_coeff(y_test, y_pred_svm)],\n",
        "    \"R2 Score\": [r2_score(y_test, y_pred_svm)],\n",
        "    \"MSE\": [mean_squared_error(y_test, y_pred_svm)],\n",
        "    \"RMSE\": [root_mean_squared_error(y_test, y_pred_svm)],\n",
        "    \"Accuracy\": [accuracy_score(y_test, y_pred_svm)],\n",
        "    \"Precision\": [precision_score(y_test, y_pred_svm)],\n",
        "    \"Recall\": [recall_score(y_test, y_pred_svm)],\n",
        "    \"F1 Score\": [f1_score(y_test, y_pred_svm)]\n",
        "}\n",
        "\n",
        "# Comparative Table\n",
        "metrics_table = comparative_table(metrics)\n"
      ],
      "metadata": {
        "id": "8gAw-_7UMmS4"
      },
      "execution_count": null,
      "outputs": []
    },
    {
      "cell_type": "code",
      "source": [
        "# Comparative Metrics Table\n",
        "metrics_table = pd.DataFrame({\n",
        "    \"Metric\": [\"Pearson R\", \"R2 Score\", \"MSE\", \"RMSE\", \"Accuracy\", \"Recall\", \"Precision\", \"F1 Score\"],\n",
        "    \"KNN\": [r_knn, r2_knn, mae_knn, rmse_knn, acc_knn, recall_knn, prec_knn, f1_knn],\n",
        "    \"Decision Tree\": [r_dt, r2_dt, mae_dt, rmse_dt, accuracy_dt, recall_dt, prec_dt, f1_dt],\n",
        "    \"Naive Bayes\": [r_nb, r2_nb, mae_nb, rmse_nb, accuracy_nb, recall_nb, prec_nb, f1_nb],\n",
        "    \"Random Forest\": [r_rf, r2_rf, mae_rf, rmse_rf, accuracy_rf, recall_rf, prec_rf, f1_rf],\n",
        "    \"XGBoost\": [r_xg, r2_xg, mae_xg, rmse_xg, accuracy_xg, recall_xg, prec_xg, f1_xg],\n",
        "    \"Ridge Classifier\": [r_rc, r2_rc, mse_rc, rmse_rc, accuracy_rc, recall_rc, prec_rc, f1_rc],\n",
        "    \"CatBoost\": [r_cat, r2_cat, mse_cat, rmse_cat, accuracy_cat, recall_cat, precision_cat, f1_cat],\n",
        "    \"SVM\": [r_svm, r2_svm, mse_svm, ]\n",
        "})\n",
        "\n",
        "print(metrics_table)\n"
      ],
      "metadata": {
        "id": "-oNKw3Erf_Kp"
      },
      "execution_count": null,
      "outputs": []
    },
    {
      "cell_type": "code",
      "source": [
        "import pandas as pd\n",
        "from sklearn.metrics import confusion_matrix, accuracy_score, precision_score, recall_score, f1_score, mean_squared_error, r2_score\n",
        "from math import sqrt\n",
        "\n",
        "# Custom functions for evaluation metrics\n",
        "def root_mean_squared_error(y_test, y_pred):\n",
        "    return sqrt(mean_squared_error(y_test, y_pred))\n",
        "\n",
        "def pearson_coeff(y_test, y_pred):\n",
        "    return np.corrcoef(y_test, y_pred)[0, 1]\n",
        "\n",
        "# Assuming you have the predictions for different models (e.g., svm, knn, decision_tree)\n",
        "# Replace `y_pred_svm`, `y_pred_knn`, etc. with actual predictions\n",
        "\n",
        "# Example: Adding SVM and KNN models\n",
        "metrics = {\n",
        "    \"Model\": [\"SVM\", \"KNN\", \"Decision Tree\", \"CatBoost\"],  # Add more models as needed\n",
        "    \"Pearson (R)\": [\n",
        "        r(y_test, y_pred_svm),\n",
        "        r(y_test, y_pred_knn),\n",
        "        r(y_test, y_pred_tree),\n",
        "        pearson_coeff(y_test, y_pred_catboost)\n",
        "    ],\n",
        "    \"R2 Score\": [\n",
        "        r2_score(y_test, y_pred_svm),\n",
        "        r2_score(y_test, y_pred_knn),\n",
        "        r2_score(y_test, y_pred_tree),\n",
        "        r2_score(y_test, y_pred_catboost)\n",
        "    ],\n",
        "    \"MSE\": [\n",
        "        mean_squared_error(y_test, y_pred_svm),\n",
        "        mean_squared_error(y_test, y_pred_knn),\n",
        "        mean_squared_error(y_test, y_pred_tree),\n",
        "        mean_squared_error(y_test, y_pred_catboost)\n",
        "    ],\n",
        "    \"RMSE\": [\n",
        "        root_mean_squared_error(y_test, y_pred_svm),\n",
        "        root_mean_squared_error(y_test, y_pred_knn),\n",
        "        root_mean_squared_error(y_test, y_pred_tree),\n",
        "        root_mean_squared_error(y_test, y_pred_catboost)\n",
        "    ],\n",
        "    \"Accuracy\": [\n",
        "        accuracy_score(y_test, y_pred_svm),\n",
        "        accuracy_score(y_test, y_pred_knn),\n",
        "        accuracy_score(y_test, y_pred_tree),\n",
        "        accuracy_score(y_test, y_pred_catboost)\n",
        "    ],\n",
        "    \"Precision\": [\n",
        "        precision_score(y_test, y_pred_svm),\n",
        "        precision_score(y_test, y_pred_knn),\n",
        "        precision_score(y_test, y_pred_tree),\n",
        "        precision_score(y_test, y_pred_catboost)\n",
        "    ],\n",
        "    \"Recall\": [\n",
        "        recall_score(y_test, y_pred_svm),\n",
        "        recall_score(y_test, y_pred_knn),\n",
        "        recall_score(y_test, y_pred_tree),\n",
        "        recall_score(y_test, y_pred_catboost)\n",
        "    ],\n",
        "    \"F1 Score\": [\n",
        "        f1_score(y_test, y_pred_svm),\n",
        "        f1_score(y_test, y_pred_knn),\n",
        "        f1_score(y_test, y_pred_tree),\n",
        "        f1_score(y_test, y_pred_catboost)\n",
        "    ]\n",
        "}\n",
        "\n",
        "# Print Confusion Matrix for each model\n",
        "print(f\"Confusion Matrix (SVM):\\n{confusion_matrix(y_test, y_pred_svm)}\")\n",
        "print(f\"Confusion Matrix (KNN):\\n{confusion_matrix(y_test, y_pred_knn)}\")\n",
        "print(f\"Confusion Matrix (Decision Tree):\\n{confusion_matrix(y_test, y_pred_tree)}\")\n",
        "print(f\"Confusion Matrix (CatBoost):\\n{confusion_matrix(y_test, y_pred_catboost)}\")\n",
        "\n",
        "# Create and display the Comparative Table\n",
        "def comparative_table(metrics):\n",
        "    df = pd.DataFrame(metrics)\n",
        "    display(df)\n",
        "    return df\n",
        "\n",
        "metrics_table = comparative_table(metrics)\n"
      ],
      "metadata": {
        "id": "LyGgcBv421nr"
      },
      "execution_count": null,
      "outputs": []
    }
  ]
}